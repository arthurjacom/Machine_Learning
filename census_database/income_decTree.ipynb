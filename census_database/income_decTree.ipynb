{
  "nbformat": 4,
  "nbformat_minor": 0,
  "metadata": {
    "colab": {
      "name": "income_decTree.ipynb",
      "provenance": [],
      "collapsed_sections": [],
      "authorship_tag": "ABX9TyPbXHPf7fyN61NgeiRYt67f"
    },
    "kernelspec": {
      "name": "python3",
      "display_name": "Python 3"
    }
  },
  "cells": [
    {
      "cell_type": "code",
      "metadata": {
        "id": "A5EW1cOyaFQO"
      },
      "source": [
        "#Import Libraries\n",
        "import pandas as pd\n",
        "import numpy as np\n",
        "import graphviz\n",
        "\n",
        "import pydotplus\n",
        "from IPython.display import Image \n",
        "\n",
        "from sklearn import preprocessing, tree\n",
        "from sklearn.model_selection import train_test_split\n",
        "from sklearn.metrics import classification_report, confusion_matrix"
      ],
      "execution_count": 321,
      "outputs": []
    },
    {
      "cell_type": "code",
      "metadata": {
        "id": "cyAs3XoBaIRw"
      },
      "source": [
        "#Getting the data\n",
        "adlt = pd.read_csv('adult.csv')"
      ],
      "execution_count": 322,
      "outputs": []
    },
    {
      "cell_type": "code",
      "metadata": {
        "colab": {
          "base_uri": "https://localhost:8080/",
          "height": 287
        },
        "id": "-7qEYqyjRU9I",
        "outputId": "9d36f868-c07b-489b-9c10-34d8b3e6dcd8"
      },
      "source": [
        "#Exploring the dataset\n",
        "adlt.head()"
      ],
      "execution_count": 323,
      "outputs": [
        {
          "output_type": "execute_result",
          "data": {
            "text/html": [
              "<div>\n",
              "<style scoped>\n",
              "    .dataframe tbody tr th:only-of-type {\n",
              "        vertical-align: middle;\n",
              "    }\n",
              "\n",
              "    .dataframe tbody tr th {\n",
              "        vertical-align: top;\n",
              "    }\n",
              "\n",
              "    .dataframe thead th {\n",
              "        text-align: right;\n",
              "    }\n",
              "</style>\n",
              "<table border=\"1\" class=\"dataframe\">\n",
              "  <thead>\n",
              "    <tr style=\"text-align: right;\">\n",
              "      <th></th>\n",
              "      <th>age</th>\n",
              "      <th>workclass</th>\n",
              "      <th>fnlwgt</th>\n",
              "      <th>education</th>\n",
              "      <th>education.num</th>\n",
              "      <th>marital.status</th>\n",
              "      <th>occupation</th>\n",
              "      <th>relationship</th>\n",
              "      <th>race</th>\n",
              "      <th>sex</th>\n",
              "      <th>capital.gain</th>\n",
              "      <th>capital.loss</th>\n",
              "      <th>hours.per.week</th>\n",
              "      <th>native.country</th>\n",
              "      <th>income</th>\n",
              "    </tr>\n",
              "  </thead>\n",
              "  <tbody>\n",
              "    <tr>\n",
              "      <th>0</th>\n",
              "      <td>90</td>\n",
              "      <td>?</td>\n",
              "      <td>77053</td>\n",
              "      <td>HS-grad</td>\n",
              "      <td>9</td>\n",
              "      <td>Widowed</td>\n",
              "      <td>?</td>\n",
              "      <td>Not-in-family</td>\n",
              "      <td>White</td>\n",
              "      <td>Female</td>\n",
              "      <td>0</td>\n",
              "      <td>4356</td>\n",
              "      <td>40</td>\n",
              "      <td>United-States</td>\n",
              "      <td>&lt;=50K</td>\n",
              "    </tr>\n",
              "    <tr>\n",
              "      <th>1</th>\n",
              "      <td>82</td>\n",
              "      <td>Private</td>\n",
              "      <td>132870</td>\n",
              "      <td>HS-grad</td>\n",
              "      <td>9</td>\n",
              "      <td>Widowed</td>\n",
              "      <td>Exec-managerial</td>\n",
              "      <td>Not-in-family</td>\n",
              "      <td>White</td>\n",
              "      <td>Female</td>\n",
              "      <td>0</td>\n",
              "      <td>4356</td>\n",
              "      <td>18</td>\n",
              "      <td>United-States</td>\n",
              "      <td>&lt;=50K</td>\n",
              "    </tr>\n",
              "    <tr>\n",
              "      <th>2</th>\n",
              "      <td>66</td>\n",
              "      <td>?</td>\n",
              "      <td>186061</td>\n",
              "      <td>Some-college</td>\n",
              "      <td>10</td>\n",
              "      <td>Widowed</td>\n",
              "      <td>?</td>\n",
              "      <td>Unmarried</td>\n",
              "      <td>Black</td>\n",
              "      <td>Female</td>\n",
              "      <td>0</td>\n",
              "      <td>4356</td>\n",
              "      <td>40</td>\n",
              "      <td>United-States</td>\n",
              "      <td>&lt;=50K</td>\n",
              "    </tr>\n",
              "    <tr>\n",
              "      <th>3</th>\n",
              "      <td>54</td>\n",
              "      <td>Private</td>\n",
              "      <td>140359</td>\n",
              "      <td>7th-8th</td>\n",
              "      <td>4</td>\n",
              "      <td>Divorced</td>\n",
              "      <td>Machine-op-inspct</td>\n",
              "      <td>Unmarried</td>\n",
              "      <td>White</td>\n",
              "      <td>Female</td>\n",
              "      <td>0</td>\n",
              "      <td>3900</td>\n",
              "      <td>40</td>\n",
              "      <td>United-States</td>\n",
              "      <td>&lt;=50K</td>\n",
              "    </tr>\n",
              "    <tr>\n",
              "      <th>4</th>\n",
              "      <td>41</td>\n",
              "      <td>Private</td>\n",
              "      <td>264663</td>\n",
              "      <td>Some-college</td>\n",
              "      <td>10</td>\n",
              "      <td>Separated</td>\n",
              "      <td>Prof-specialty</td>\n",
              "      <td>Own-child</td>\n",
              "      <td>White</td>\n",
              "      <td>Female</td>\n",
              "      <td>0</td>\n",
              "      <td>3900</td>\n",
              "      <td>40</td>\n",
              "      <td>United-States</td>\n",
              "      <td>&lt;=50K</td>\n",
              "    </tr>\n",
              "  </tbody>\n",
              "</table>\n",
              "</div>"
            ],
            "text/plain": [
              "   age workclass  fnlwgt  ... hours.per.week  native.country income\n",
              "0   90         ?   77053  ...             40   United-States  <=50K\n",
              "1   82   Private  132870  ...             18   United-States  <=50K\n",
              "2   66         ?  186061  ...             40   United-States  <=50K\n",
              "3   54   Private  140359  ...             40   United-States  <=50K\n",
              "4   41   Private  264663  ...             40   United-States  <=50K\n",
              "\n",
              "[5 rows x 15 columns]"
            ]
          },
          "metadata": {
            "tags": []
          },
          "execution_count": 323
        }
      ]
    },
    {
      "cell_type": "code",
      "metadata": {
        "id": "o1rdzxzwbwkX"
      },
      "source": [
        "#Pre-processing\n",
        "pre = preprocessing.LabelEncoder()"
      ],
      "execution_count": 324,
      "outputs": []
    },
    {
      "cell_type": "code",
      "metadata": {
        "id": "CBz3cgoYb8A3"
      },
      "source": [
        "adlt['workclass'] = pre.fit_transform(adlt['workclass'])\n",
        "adlt['occupation'] = pre.fit_transform(adlt['occupation'])\n",
        "adlt['relationship'] = pre.fit_transform(adlt['relationship'])\n",
        "adlt['race'] = pre.fit_transform(adlt['race'])\n",
        "adlt['sex'] = pre.fit_transform(adlt['sex'])\n",
        "adlt['income'] = pre.fit_transform(adlt['income'])"
      ],
      "execution_count": 325,
      "outputs": []
    },
    {
      "cell_type": "code",
      "metadata": {
        "id": "FXKiZfCNO7sG"
      },
      "source": [
        "#Excluding unnecessary columns\n",
        "adlt.drop(['fnlwgt', 'education', 'marital.status', 'native.country'], axis=1, inplace=True)"
      ],
      "execution_count": 326,
      "outputs": []
    },
    {
      "cell_type": "code",
      "metadata": {
        "colab": {
          "base_uri": "https://localhost:8080/"
        },
        "id": "P9BfIi8CtsW3",
        "outputId": "f5c9883f-5931-4aca-a538-ecafd45deb52"
      },
      "source": [
        "#Most frequent value ​​in Occupation\n",
        "occupation_count = adlt['occupation'].value_counts().idxmax()\n",
        "occupation_count"
      ],
      "execution_count": 327,
      "outputs": [
        {
          "output_type": "execute_result",
          "data": {
            "text/plain": [
              "10"
            ]
          },
          "metadata": {
            "tags": []
          },
          "execution_count": 327
        }
      ]
    },
    {
      "cell_type": "code",
      "metadata": {
        "colab": {
          "base_uri": "https://localhost:8080/"
        },
        "id": "YL3EYOCDDY9G",
        "outputId": "1f7b4d85-d1e1-4d64-d6b6-646e88e902ec"
      },
      "source": [
        "#Most frequent value ​​in workclass\n",
        "workclass_count = adlt['workclass'].value_counts().idxmax()\n",
        "workclass_count"
      ],
      "execution_count": 328,
      "outputs": [
        {
          "output_type": "execute_result",
          "data": {
            "text/plain": [
              "4"
            ]
          },
          "metadata": {
            "tags": []
          },
          "execution_count": 328
        }
      ]
    },
    {
      "cell_type": "code",
      "metadata": {
        "id": "2jRPtAUJBphj"
      },
      "source": [
        "#Replacing 0 (Missing Values) for 10 (Most frequent value) in occupation.\n",
        "def occu(pati):\n",
        "  on = pati[0]\n",
        "  if on == 0:\n",
        "    return 10\n",
        "  else:\n",
        "    return on\n",
        "\n",
        "adlt['occupation'] = adlt[['occupation']].apply(occu,axis=1)"
      ],
      "execution_count": 329,
      "outputs": []
    },
    {
      "cell_type": "code",
      "metadata": {
        "id": "7qjoJUf3Dh-y"
      },
      "source": [
        "#Replacing 0 (Missing Values) for 4 (Most frequent value) in workclass.\n",
        "def wor(kcl):\n",
        "  ass = kcl[0]\n",
        "  if ass == 0:\n",
        "    return 4\n",
        "  else:\n",
        "    return ass\n",
        "\n",
        "adlt['workclass'] = adlt[['workclass']].apply(wor,axis=1)"
      ],
      "execution_count": 330,
      "outputs": []
    },
    {
      "cell_type": "code",
      "metadata": {
        "id": "8NP4DWB2I1y1"
      },
      "source": [
        "#Rename columns\n",
        "adlt.columns = adlt.columns.str.replace('.', '_')\n",
        "adlt = adlt.rename(columns = {'education_num': 'education'}, inplace = False)"
      ],
      "execution_count": 331,
      "outputs": []
    },
    {
      "cell_type": "code",
      "metadata": {
        "colab": {
          "base_uri": "https://localhost:8080/",
          "height": 198
        },
        "id": "iAe8i08_D95O",
        "outputId": "144ab0a0-bc6a-4df5-f4f8-84d340dd5d64"
      },
      "source": [
        "adlt.head()"
      ],
      "execution_count": 332,
      "outputs": [
        {
          "output_type": "execute_result",
          "data": {
            "text/html": [
              "<div>\n",
              "<style scoped>\n",
              "    .dataframe tbody tr th:only-of-type {\n",
              "        vertical-align: middle;\n",
              "    }\n",
              "\n",
              "    .dataframe tbody tr th {\n",
              "        vertical-align: top;\n",
              "    }\n",
              "\n",
              "    .dataframe thead th {\n",
              "        text-align: right;\n",
              "    }\n",
              "</style>\n",
              "<table border=\"1\" class=\"dataframe\">\n",
              "  <thead>\n",
              "    <tr style=\"text-align: right;\">\n",
              "      <th></th>\n",
              "      <th>age</th>\n",
              "      <th>workclass</th>\n",
              "      <th>education</th>\n",
              "      <th>occupation</th>\n",
              "      <th>relationship</th>\n",
              "      <th>race</th>\n",
              "      <th>sex</th>\n",
              "      <th>capital_gain</th>\n",
              "      <th>capital_loss</th>\n",
              "      <th>hours_per_week</th>\n",
              "      <th>income</th>\n",
              "    </tr>\n",
              "  </thead>\n",
              "  <tbody>\n",
              "    <tr>\n",
              "      <th>0</th>\n",
              "      <td>90</td>\n",
              "      <td>4</td>\n",
              "      <td>9</td>\n",
              "      <td>10</td>\n",
              "      <td>1</td>\n",
              "      <td>4</td>\n",
              "      <td>0</td>\n",
              "      <td>0</td>\n",
              "      <td>4356</td>\n",
              "      <td>40</td>\n",
              "      <td>0</td>\n",
              "    </tr>\n",
              "    <tr>\n",
              "      <th>1</th>\n",
              "      <td>82</td>\n",
              "      <td>4</td>\n",
              "      <td>9</td>\n",
              "      <td>4</td>\n",
              "      <td>1</td>\n",
              "      <td>4</td>\n",
              "      <td>0</td>\n",
              "      <td>0</td>\n",
              "      <td>4356</td>\n",
              "      <td>18</td>\n",
              "      <td>0</td>\n",
              "    </tr>\n",
              "    <tr>\n",
              "      <th>2</th>\n",
              "      <td>66</td>\n",
              "      <td>4</td>\n",
              "      <td>10</td>\n",
              "      <td>10</td>\n",
              "      <td>4</td>\n",
              "      <td>2</td>\n",
              "      <td>0</td>\n",
              "      <td>0</td>\n",
              "      <td>4356</td>\n",
              "      <td>40</td>\n",
              "      <td>0</td>\n",
              "    </tr>\n",
              "    <tr>\n",
              "      <th>3</th>\n",
              "      <td>54</td>\n",
              "      <td>4</td>\n",
              "      <td>4</td>\n",
              "      <td>7</td>\n",
              "      <td>4</td>\n",
              "      <td>4</td>\n",
              "      <td>0</td>\n",
              "      <td>0</td>\n",
              "      <td>3900</td>\n",
              "      <td>40</td>\n",
              "      <td>0</td>\n",
              "    </tr>\n",
              "    <tr>\n",
              "      <th>4</th>\n",
              "      <td>41</td>\n",
              "      <td>4</td>\n",
              "      <td>10</td>\n",
              "      <td>10</td>\n",
              "      <td>3</td>\n",
              "      <td>4</td>\n",
              "      <td>0</td>\n",
              "      <td>0</td>\n",
              "      <td>3900</td>\n",
              "      <td>40</td>\n",
              "      <td>0</td>\n",
              "    </tr>\n",
              "  </tbody>\n",
              "</table>\n",
              "</div>"
            ],
            "text/plain": [
              "   age  workclass  education  ...  capital_loss  hours_per_week  income\n",
              "0   90          4          9  ...          4356              40       0\n",
              "1   82          4          9  ...          4356              18       0\n",
              "2   66          4         10  ...          4356              40       0\n",
              "3   54          4          4  ...          3900              40       0\n",
              "4   41          4         10  ...          3900              40       0\n",
              "\n",
              "[5 rows x 11 columns]"
            ]
          },
          "metadata": {
            "tags": []
          },
          "execution_count": 332
        }
      ]
    },
    {
      "cell_type": "code",
      "metadata": {
        "colab": {
          "base_uri": "https://localhost:8080/",
          "height": 308
        },
        "id": "bXIx26gCR4jj",
        "outputId": "8372dfbf-55f1-4487-9f8c-64efc5b68ef7"
      },
      "source": [
        "adlt.describe(include='all')"
      ],
      "execution_count": 333,
      "outputs": [
        {
          "output_type": "execute_result",
          "data": {
            "text/html": [
              "<div>\n",
              "<style scoped>\n",
              "    .dataframe tbody tr th:only-of-type {\n",
              "        vertical-align: middle;\n",
              "    }\n",
              "\n",
              "    .dataframe tbody tr th {\n",
              "        vertical-align: top;\n",
              "    }\n",
              "\n",
              "    .dataframe thead th {\n",
              "        text-align: right;\n",
              "    }\n",
              "</style>\n",
              "<table border=\"1\" class=\"dataframe\">\n",
              "  <thead>\n",
              "    <tr style=\"text-align: right;\">\n",
              "      <th></th>\n",
              "      <th>age</th>\n",
              "      <th>workclass</th>\n",
              "      <th>education</th>\n",
              "      <th>occupation</th>\n",
              "      <th>relationship</th>\n",
              "      <th>race</th>\n",
              "      <th>sex</th>\n",
              "      <th>capital_gain</th>\n",
              "      <th>capital_loss</th>\n",
              "      <th>hours_per_week</th>\n",
              "      <th>income</th>\n",
              "    </tr>\n",
              "  </thead>\n",
              "  <tbody>\n",
              "    <tr>\n",
              "      <th>count</th>\n",
              "      <td>32561.000000</td>\n",
              "      <td>32561.000000</td>\n",
              "      <td>32561.000000</td>\n",
              "      <td>32561.000000</td>\n",
              "      <td>32561.000000</td>\n",
              "      <td>32561.000000</td>\n",
              "      <td>32561.000000</td>\n",
              "      <td>32561.000000</td>\n",
              "      <td>32561.000000</td>\n",
              "      <td>32561.000000</td>\n",
              "      <td>32561.000000</td>\n",
              "    </tr>\n",
              "    <tr>\n",
              "      <th>mean</th>\n",
              "      <td>38.581647</td>\n",
              "      <td>4.094438</td>\n",
              "      <td>10.080679</td>\n",
              "      <td>7.138755</td>\n",
              "      <td>1.446362</td>\n",
              "      <td>3.665858</td>\n",
              "      <td>0.669205</td>\n",
              "      <td>1077.648844</td>\n",
              "      <td>87.303830</td>\n",
              "      <td>40.437456</td>\n",
              "      <td>0.240810</td>\n",
              "    </tr>\n",
              "    <tr>\n",
              "      <th>std</th>\n",
              "      <td>13.640433</td>\n",
              "      <td>1.107194</td>\n",
              "      <td>2.572720</td>\n",
              "      <td>3.972708</td>\n",
              "      <td>1.606771</td>\n",
              "      <td>0.848806</td>\n",
              "      <td>0.470506</td>\n",
              "      <td>7385.292085</td>\n",
              "      <td>402.960219</td>\n",
              "      <td>12.347429</td>\n",
              "      <td>0.427581</td>\n",
              "    </tr>\n",
              "    <tr>\n",
              "      <th>min</th>\n",
              "      <td>17.000000</td>\n",
              "      <td>1.000000</td>\n",
              "      <td>1.000000</td>\n",
              "      <td>1.000000</td>\n",
              "      <td>0.000000</td>\n",
              "      <td>0.000000</td>\n",
              "      <td>0.000000</td>\n",
              "      <td>0.000000</td>\n",
              "      <td>0.000000</td>\n",
              "      <td>1.000000</td>\n",
              "      <td>0.000000</td>\n",
              "    </tr>\n",
              "    <tr>\n",
              "      <th>25%</th>\n",
              "      <td>28.000000</td>\n",
              "      <td>4.000000</td>\n",
              "      <td>9.000000</td>\n",
              "      <td>4.000000</td>\n",
              "      <td>0.000000</td>\n",
              "      <td>4.000000</td>\n",
              "      <td>0.000000</td>\n",
              "      <td>0.000000</td>\n",
              "      <td>0.000000</td>\n",
              "      <td>40.000000</td>\n",
              "      <td>0.000000</td>\n",
              "    </tr>\n",
              "    <tr>\n",
              "      <th>50%</th>\n",
              "      <td>37.000000</td>\n",
              "      <td>4.000000</td>\n",
              "      <td>10.000000</td>\n",
              "      <td>7.000000</td>\n",
              "      <td>1.000000</td>\n",
              "      <td>4.000000</td>\n",
              "      <td>1.000000</td>\n",
              "      <td>0.000000</td>\n",
              "      <td>0.000000</td>\n",
              "      <td>40.000000</td>\n",
              "      <td>0.000000</td>\n",
              "    </tr>\n",
              "    <tr>\n",
              "      <th>75%</th>\n",
              "      <td>48.000000</td>\n",
              "      <td>4.000000</td>\n",
              "      <td>12.000000</td>\n",
              "      <td>10.000000</td>\n",
              "      <td>3.000000</td>\n",
              "      <td>4.000000</td>\n",
              "      <td>1.000000</td>\n",
              "      <td>0.000000</td>\n",
              "      <td>0.000000</td>\n",
              "      <td>45.000000</td>\n",
              "      <td>0.000000</td>\n",
              "    </tr>\n",
              "    <tr>\n",
              "      <th>max</th>\n",
              "      <td>90.000000</td>\n",
              "      <td>8.000000</td>\n",
              "      <td>16.000000</td>\n",
              "      <td>14.000000</td>\n",
              "      <td>5.000000</td>\n",
              "      <td>4.000000</td>\n",
              "      <td>1.000000</td>\n",
              "      <td>99999.000000</td>\n",
              "      <td>4356.000000</td>\n",
              "      <td>99.000000</td>\n",
              "      <td>1.000000</td>\n",
              "    </tr>\n",
              "  </tbody>\n",
              "</table>\n",
              "</div>"
            ],
            "text/plain": [
              "                age     workclass  ...  hours_per_week        income\n",
              "count  32561.000000  32561.000000  ...    32561.000000  32561.000000\n",
              "mean      38.581647      4.094438  ...       40.437456      0.240810\n",
              "std       13.640433      1.107194  ...       12.347429      0.427581\n",
              "min       17.000000      1.000000  ...        1.000000      0.000000\n",
              "25%       28.000000      4.000000  ...       40.000000      0.000000\n",
              "50%       37.000000      4.000000  ...       40.000000      0.000000\n",
              "75%       48.000000      4.000000  ...       45.000000      0.000000\n",
              "max       90.000000      8.000000  ...       99.000000      1.000000\n",
              "\n",
              "[8 rows x 11 columns]"
            ]
          },
          "metadata": {
            "tags": []
          },
          "execution_count": 333
        }
      ]
    },
    {
      "cell_type": "code",
      "metadata": {
        "id": "qxq8QscrvfSb"
      },
      "source": [
        "#Model\n",
        "X_train, X_test, y_train, y_test = train_test_split(adlt.drop('income',axis=1), adlt['income'], test_size=0.30, random_state=100)"
      ],
      "execution_count": 334,
      "outputs": []
    },
    {
      "cell_type": "code",
      "metadata": {
        "id": "pybTLvWZxm2z"
      },
      "source": [
        "dectree = tree.DecisionTreeClassifier(criterion='entropy', splitter='best', min_samples_split=215, min_samples_leaf=215, max_depth=6)\n",
        "dectree = dectree.fit(X_train, y_train)"
      ],
      "execution_count": 335,
      "outputs": []
    },
    {
      "cell_type": "code",
      "metadata": {
        "colab": {
          "base_uri": "https://localhost:8080/"
        },
        "id": "g1v1EdkwWJ6O",
        "outputId": "56618e4c-37e4-4556-9e4f-af60db58d7cb"
      },
      "source": [
        "#Prediction\n",
        "treepred = dectree.predict(X_test) \n",
        "treepred"
      ],
      "execution_count": 336,
      "outputs": [
        {
          "output_type": "execute_result",
          "data": {
            "text/plain": [
              "array([0, 0, 0, ..., 1, 1, 0])"
            ]
          },
          "metadata": {
            "tags": []
          },
          "execution_count": 336
        }
      ]
    },
    {
      "cell_type": "code",
      "metadata": {
        "colab": {
          "base_uri": "https://localhost:8080/",
          "height": 954
        },
        "id": "3e63zgemVQ22",
        "outputId": "277efee3-fa65-4381-c21a-74e693c28519"
      },
      "source": [
        "dot_data = tree.export_graphviz(dectree, out_file=None, label='all', impurity=False, proportion=True, \n",
        "                               feature_names=list(X_train), class_names=['<50k', '>50k'],\n",
        "                               filled=True, rounded=True)\n",
        "graph = graphviz.Source(dot_data)\n",
        "graph"
      ],
      "execution_count": 337,
      "outputs": [
        {
          "output_type": "execute_result",
          "data": {
            "text/plain": [
              "<graphviz.files.Source at 0x7f6446aa2358>"
            ],
            "image/svg+xml": "<?xml version=\"1.0\" encoding=\"UTF-8\" standalone=\"no\"?>\n<!DOCTYPE svg PUBLIC \"-//W3C//DTD SVG 1.1//EN\"\n \"http://www.w3.org/Graphics/SVG/1.1/DTD/svg11.dtd\">\n<!-- Generated by graphviz version 2.40.1 (20161225.0304)\n -->\n<!-- Title: Tree Pages: 1 -->\n<svg width=\"2534pt\" height=\"685pt\"\n viewBox=\"0.00 0.00 2534.00 685.00\" xmlns=\"http://www.w3.org/2000/svg\" xmlns:xlink=\"http://www.w3.org/1999/xlink\">\n<g id=\"graph0\" class=\"graph\" transform=\"scale(1 1) rotate(0) translate(4 681)\">\n<title>Tree</title>\n<polygon fill=\"#ffffff\" stroke=\"transparent\" points=\"-4,4 -4,-681 2530,-681 2530,4 -4,4\"/>\n<!-- 0 -->\n<g id=\"node1\" class=\"node\">\n<title>0</title>\n<path fill=\"#eda978\" stroke=\"#000000\" d=\"M1403,-677C1403,-677 1271,-677 1271,-677 1265,-677 1259,-671 1259,-665 1259,-665 1259,-621 1259,-621 1259,-615 1265,-609 1271,-609 1271,-609 1403,-609 1403,-609 1409,-609 1415,-615 1415,-621 1415,-621 1415,-665 1415,-665 1415,-671 1409,-677 1403,-677\"/>\n<text text-anchor=\"middle\" x=\"1337\" y=\"-661.8\" font-family=\"Helvetica,sans-Serif\" font-size=\"14.00\" fill=\"#000000\">relationship &lt;= 0.5</text>\n<text text-anchor=\"middle\" x=\"1337\" y=\"-646.8\" font-family=\"Helvetica,sans-Serif\" font-size=\"14.00\" fill=\"#000000\">samples = 100.0%</text>\n<text text-anchor=\"middle\" x=\"1337\" y=\"-631.8\" font-family=\"Helvetica,sans-Serif\" font-size=\"14.00\" fill=\"#000000\">value = [0.758, 0.242]</text>\n<text text-anchor=\"middle\" x=\"1337\" y=\"-616.8\" font-family=\"Helvetica,sans-Serif\" font-size=\"14.00\" fill=\"#000000\">class = &lt;50k</text>\n</g>\n<!-- 1 -->\n<g id=\"node2\" class=\"node\">\n<title>1</title>\n<path fill=\"#fae7da\" stroke=\"#000000\" d=\"M1078,-573C1078,-573 946,-573 946,-573 940,-573 934,-567 934,-561 934,-561 934,-517 934,-517 934,-511 940,-505 946,-505 946,-505 1078,-505 1078,-505 1084,-505 1090,-511 1090,-517 1090,-517 1090,-561 1090,-561 1090,-567 1084,-573 1078,-573\"/>\n<text text-anchor=\"middle\" x=\"1012\" y=\"-557.8\" font-family=\"Helvetica,sans-Serif\" font-size=\"14.00\" fill=\"#000000\">education &lt;= 12.5</text>\n<text text-anchor=\"middle\" x=\"1012\" y=\"-542.8\" font-family=\"Helvetica,sans-Serif\" font-size=\"14.00\" fill=\"#000000\">samples = 40.6%</text>\n<text text-anchor=\"middle\" x=\"1012\" y=\"-527.8\" font-family=\"Helvetica,sans-Serif\" font-size=\"14.00\" fill=\"#000000\">value = [0.552, 0.448]</text>\n<text text-anchor=\"middle\" x=\"1012\" y=\"-512.8\" font-family=\"Helvetica,sans-Serif\" font-size=\"14.00\" fill=\"#000000\">class = &lt;50k</text>\n</g>\n<!-- 0&#45;&gt;1 -->\n<g id=\"edge1\" class=\"edge\">\n<title>0&#45;&gt;1</title>\n<path fill=\"none\" stroke=\"#000000\" d=\"M1258.7408,-617.9571C1210.8451,-602.6304 1149.4537,-582.9852 1099.8903,-567.1249\"/>\n<polygon fill=\"#000000\" stroke=\"#000000\" points=\"1100.7338,-563.72 1090.1428,-564.0057 1098.6003,-570.387 1100.7338,-563.72\"/>\n<text text-anchor=\"middle\" x=\"1101.5917\" y=\"-582.5301\" font-family=\"Helvetica,sans-Serif\" font-size=\"14.00\" fill=\"#000000\">True</text>\n</g>\n<!-- 24 -->\n<g id=\"node25\" class=\"node\">\n<title>24</title>\n<path fill=\"#e88f4f\" stroke=\"#000000\" d=\"M1768,-573C1768,-573 1628,-573 1628,-573 1622,-573 1616,-567 1616,-561 1616,-561 1616,-517 1616,-517 1616,-511 1622,-505 1628,-505 1628,-505 1768,-505 1768,-505 1774,-505 1780,-511 1780,-517 1780,-517 1780,-561 1780,-561 1780,-567 1774,-573 1768,-573\"/>\n<text text-anchor=\"middle\" x=\"1698\" y=\"-557.8\" font-family=\"Helvetica,sans-Serif\" font-size=\"14.00\" fill=\"#000000\">capital_gain &lt;= 7073.5</text>\n<text text-anchor=\"middle\" x=\"1698\" y=\"-542.8\" font-family=\"Helvetica,sans-Serif\" font-size=\"14.00\" fill=\"#000000\">samples = 59.4%</text>\n<text text-anchor=\"middle\" x=\"1698\" y=\"-527.8\" font-family=\"Helvetica,sans-Serif\" font-size=\"14.00\" fill=\"#000000\">value = [0.899, 0.101]</text>\n<text text-anchor=\"middle\" x=\"1698\" y=\"-512.8\" font-family=\"Helvetica,sans-Serif\" font-size=\"14.00\" fill=\"#000000\">class = &lt;50k</text>\n</g>\n<!-- 0&#45;&gt;24 -->\n<g id=\"edge24\" class=\"edge\">\n<title>0&#45;&gt;24</title>\n<path fill=\"none\" stroke=\"#000000\" d=\"M1415.3316,-620.4335C1471.4134,-604.277 1547.1157,-582.468 1606.0637,-565.4858\"/>\n<polygon fill=\"#000000\" stroke=\"#000000\" points=\"1607.1063,-568.8279 1615.7466,-562.6963 1605.1684,-562.1014 1607.1063,-568.8279\"/>\n<text text-anchor=\"middle\" x=\"1603.6535\" y=\"-580.8768\" font-family=\"Helvetica,sans-Serif\" font-size=\"14.00\" fill=\"#000000\">False</text>\n</g>\n<!-- 2 -->\n<g id=\"node3\" class=\"node\">\n<title>2</title>\n<path fill=\"#f2bf9b\" stroke=\"#000000\" d=\"M892,-469C892,-469 752,-469 752,-469 746,-469 740,-463 740,-457 740,-457 740,-413 740,-413 740,-407 746,-401 752,-401 752,-401 892,-401 892,-401 898,-401 904,-407 904,-413 904,-413 904,-457 904,-457 904,-463 898,-469 892,-469\"/>\n<text text-anchor=\"middle\" x=\"822\" y=\"-453.8\" font-family=\"Helvetica,sans-Serif\" font-size=\"14.00\" fill=\"#000000\">capital_gain &lt;= 5095.5</text>\n<text text-anchor=\"middle\" x=\"822\" y=\"-438.8\" font-family=\"Helvetica,sans-Serif\" font-size=\"14.00\" fill=\"#000000\">samples = 28.5%</text>\n<text text-anchor=\"middle\" x=\"822\" y=\"-423.8\" font-family=\"Helvetica,sans-Serif\" font-size=\"14.00\" fill=\"#000000\">value = [0.67, 0.33]</text>\n<text text-anchor=\"middle\" x=\"822\" y=\"-408.8\" font-family=\"Helvetica,sans-Serif\" font-size=\"14.00\" fill=\"#000000\">class = &lt;50k</text>\n</g>\n<!-- 1&#45;&gt;2 -->\n<g id=\"edge2\" class=\"edge\">\n<title>1&#45;&gt;2</title>\n<path fill=\"none\" stroke=\"#000000\" d=\"M949.7869,-504.9465C931.7435,-495.0701 911.9015,-484.2093 893.3454,-474.0522\"/>\n<polygon fill=\"#000000\" stroke=\"#000000\" points=\"894.8053,-470.8613 884.3529,-469.13 891.4443,-477.0017 894.8053,-470.8613\"/>\n</g>\n<!-- 15 -->\n<g id=\"node16\" class=\"node\">\n<title>15</title>\n<path fill=\"#84c2ef\" stroke=\"#000000\" d=\"M1082,-469C1082,-469 942,-469 942,-469 936,-469 930,-463 930,-457 930,-457 930,-413 930,-413 930,-407 936,-401 942,-401 942,-401 1082,-401 1082,-401 1088,-401 1094,-407 1094,-413 1094,-413 1094,-457 1094,-457 1094,-463 1088,-469 1082,-469\"/>\n<text text-anchor=\"middle\" x=\"1012\" y=\"-453.8\" font-family=\"Helvetica,sans-Serif\" font-size=\"14.00\" fill=\"#000000\">capital_gain &lt;= 5095.5</text>\n<text text-anchor=\"middle\" x=\"1012\" y=\"-438.8\" font-family=\"Helvetica,sans-Serif\" font-size=\"14.00\" fill=\"#000000\">samples = 12.2%</text>\n<text text-anchor=\"middle\" x=\"1012\" y=\"-423.8\" font-family=\"Helvetica,sans-Serif\" font-size=\"14.00\" fill=\"#000000\">value = [0.276, 0.724]</text>\n<text text-anchor=\"middle\" x=\"1012\" y=\"-408.8\" font-family=\"Helvetica,sans-Serif\" font-size=\"14.00\" fill=\"#000000\">class = &gt;50k</text>\n</g>\n<!-- 1&#45;&gt;15 -->\n<g id=\"edge15\" class=\"edge\">\n<title>1&#45;&gt;15</title>\n<path fill=\"none\" stroke=\"#000000\" d=\"M1012,-504.9465C1012,-496.776 1012,-487.9318 1012,-479.3697\"/>\n<polygon fill=\"#000000\" stroke=\"#000000\" points=\"1015.5001,-479.13 1012,-469.13 1008.5001,-479.13 1015.5001,-479.13\"/>\n</g>\n<!-- 3 -->\n<g id=\"node4\" class=\"node\">\n<title>3</title>\n<path fill=\"#f0b68d\" stroke=\"#000000\" d=\"M623,-365C623,-365 491,-365 491,-365 485,-365 479,-359 479,-353 479,-353 479,-309 479,-309 479,-303 485,-297 491,-297 491,-297 623,-297 623,-297 629,-297 635,-303 635,-309 635,-309 635,-353 635,-353 635,-359 629,-365 623,-365\"/>\n<text text-anchor=\"middle\" x=\"557\" y=\"-349.8\" font-family=\"Helvetica,sans-Serif\" font-size=\"14.00\" fill=\"#000000\">education &lt;= 8.5</text>\n<text text-anchor=\"middle\" x=\"557\" y=\"-334.8\" font-family=\"Helvetica,sans-Serif\" font-size=\"14.00\" fill=\"#000000\">samples = 27.1%</text>\n<text text-anchor=\"middle\" x=\"557\" y=\"-319.8\" font-family=\"Helvetica,sans-Serif\" font-size=\"14.00\" fill=\"#000000\">value = [0.703, 0.297]</text>\n<text text-anchor=\"middle\" x=\"557\" y=\"-304.8\" font-family=\"Helvetica,sans-Serif\" font-size=\"14.00\" fill=\"#000000\">class = &lt;50k</text>\n</g>\n<!-- 2&#45;&gt;3 -->\n<g id=\"edge3\" class=\"edge\">\n<title>2&#45;&gt;3</title>\n<path fill=\"none\" stroke=\"#000000\" d=\"M739.9672,-402.806C709.6607,-390.9121 675.2128,-377.3929 644.4444,-365.3178\"/>\n<polygon fill=\"#000000\" stroke=\"#000000\" points=\"645.6099,-362.0154 635.0224,-361.6201 643.0525,-368.5315 645.6099,-362.0154\"/>\n</g>\n<!-- 14 -->\n<g id=\"node15\" class=\"node\">\n<title>14</title>\n<path fill=\"#3ea0e6\" stroke=\"#000000\" d=\"M888,-357.5C888,-357.5 756,-357.5 756,-357.5 750,-357.5 744,-351.5 744,-345.5 744,-345.5 744,-316.5 744,-316.5 744,-310.5 750,-304.5 756,-304.5 756,-304.5 888,-304.5 888,-304.5 894,-304.5 900,-310.5 900,-316.5 900,-316.5 900,-345.5 900,-345.5 900,-351.5 894,-357.5 888,-357.5\"/>\n<text text-anchor=\"middle\" x=\"822\" y=\"-342.3\" font-family=\"Helvetica,sans-Serif\" font-size=\"14.00\" fill=\"#000000\">samples = 1.4%</text>\n<text text-anchor=\"middle\" x=\"822\" y=\"-327.3\" font-family=\"Helvetica,sans-Serif\" font-size=\"14.00\" fill=\"#000000\">value = [0.025, 0.975]</text>\n<text text-anchor=\"middle\" x=\"822\" y=\"-312.3\" font-family=\"Helvetica,sans-Serif\" font-size=\"14.00\" fill=\"#000000\">class = &gt;50k</text>\n</g>\n<!-- 2&#45;&gt;14 -->\n<g id=\"edge14\" class=\"edge\">\n<title>2&#45;&gt;14</title>\n<path fill=\"none\" stroke=\"#000000\" d=\"M822,-400.9465C822,-390.2621 822,-378.4254 822,-367.5742\"/>\n<polygon fill=\"#000000\" stroke=\"#000000\" points=\"825.5001,-367.5421 822,-357.5422 818.5001,-367.5422 825.5001,-367.5421\"/>\n</g>\n<!-- 4 -->\n<g id=\"node5\" class=\"node\">\n<title>4</title>\n<path fill=\"#e89152\" stroke=\"#000000\" d=\"M318,-261C318,-261 186,-261 186,-261 180,-261 174,-255 174,-249 174,-249 174,-205 174,-205 174,-199 180,-193 186,-193 186,-193 318,-193 318,-193 324,-193 330,-199 330,-205 330,-205 330,-249 330,-249 330,-255 324,-261 318,-261\"/>\n<text text-anchor=\"middle\" x=\"252\" y=\"-245.8\" font-family=\"Helvetica,sans-Serif\" font-size=\"14.00\" fill=\"#000000\">age &lt;= 36.5</text>\n<text text-anchor=\"middle\" x=\"252\" y=\"-230.8\" font-family=\"Helvetica,sans-Serif\" font-size=\"14.00\" fill=\"#000000\">samples = 4.5%</text>\n<text text-anchor=\"middle\" x=\"252\" y=\"-215.8\" font-family=\"Helvetica,sans-Serif\" font-size=\"14.00\" fill=\"#000000\">value = [0.888, 0.112]</text>\n<text text-anchor=\"middle\" x=\"252\" y=\"-200.8\" font-family=\"Helvetica,sans-Serif\" font-size=\"14.00\" fill=\"#000000\">class = &lt;50k</text>\n</g>\n<!-- 3&#45;&gt;4 -->\n<g id=\"edge4\" class=\"edge\">\n<title>3&#45;&gt;4</title>\n<path fill=\"none\" stroke=\"#000000\" d=\"M478.851,-304.3525C436.345,-289.8586 383.6359,-271.8857 339.7264,-256.9133\"/>\n<polygon fill=\"#000000\" stroke=\"#000000\" points=\"340.805,-253.5832 330.2105,-253.6685 338.5458,-260.2086 340.805,-253.5832\"/>\n</g>\n<!-- 9 -->\n<g id=\"node10\" class=\"node\">\n<title>9</title>\n<path fill=\"#f2c09c\" stroke=\"#000000\" d=\"M626,-261C626,-261 488,-261 488,-261 482,-261 476,-255 476,-249 476,-249 476,-205 476,-205 476,-199 482,-193 488,-193 488,-193 626,-193 626,-193 632,-193 638,-199 638,-205 638,-205 638,-249 638,-249 638,-255 632,-261 626,-261\"/>\n<text text-anchor=\"middle\" x=\"557\" y=\"-245.8\" font-family=\"Helvetica,sans-Serif\" font-size=\"14.00\" fill=\"#000000\">capital_loss &lt;= 1782.5</text>\n<text text-anchor=\"middle\" x=\"557\" y=\"-230.8\" font-family=\"Helvetica,sans-Serif\" font-size=\"14.00\" fill=\"#000000\">samples = 22.6%</text>\n<text text-anchor=\"middle\" x=\"557\" y=\"-215.8\" font-family=\"Helvetica,sans-Serif\" font-size=\"14.00\" fill=\"#000000\">value = [0.666, 0.334]</text>\n<text text-anchor=\"middle\" x=\"557\" y=\"-200.8\" font-family=\"Helvetica,sans-Serif\" font-size=\"14.00\" fill=\"#000000\">class = &lt;50k</text>\n</g>\n<!-- 3&#45;&gt;9 -->\n<g id=\"edge9\" class=\"edge\">\n<title>3&#45;&gt;9</title>\n<path fill=\"none\" stroke=\"#000000\" d=\"M557,-296.9465C557,-288.776 557,-279.9318 557,-271.3697\"/>\n<polygon fill=\"#000000\" stroke=\"#000000\" points=\"560.5001,-271.13 557,-261.13 553.5001,-271.13 560.5001,-271.13\"/>\n</g>\n<!-- 5 -->\n<g id=\"node6\" class=\"node\">\n<title>5</title>\n<path fill=\"#e68742\" stroke=\"#000000\" d=\"M144,-149.5C144,-149.5 12,-149.5 12,-149.5 6,-149.5 0,-143.5 0,-137.5 0,-137.5 0,-108.5 0,-108.5 0,-102.5 6,-96.5 12,-96.5 12,-96.5 144,-96.5 144,-96.5 150,-96.5 156,-102.5 156,-108.5 156,-108.5 156,-137.5 156,-137.5 156,-143.5 150,-149.5 144,-149.5\"/>\n<text text-anchor=\"middle\" x=\"78\" y=\"-134.3\" font-family=\"Helvetica,sans-Serif\" font-size=\"14.00\" fill=\"#000000\">samples = 1.2%</text>\n<text text-anchor=\"middle\" x=\"78\" y=\"-119.3\" font-family=\"Helvetica,sans-Serif\" font-size=\"14.00\" fill=\"#000000\">value = [0.956, 0.044]</text>\n<text text-anchor=\"middle\" x=\"78\" y=\"-104.3\" font-family=\"Helvetica,sans-Serif\" font-size=\"14.00\" fill=\"#000000\">class = &lt;50k</text>\n</g>\n<!-- 4&#45;&gt;5 -->\n<g id=\"edge5\" class=\"edge\">\n<title>4&#45;&gt;5</title>\n<path fill=\"none\" stroke=\"#000000\" d=\"M195.0259,-192.9465C174.4778,-180.6649 151.3827,-166.8609 131.1723,-154.7811\"/>\n<polygon fill=\"#000000\" stroke=\"#000000\" points=\"132.7864,-151.6684 122.4071,-149.5422 129.195,-157.6769 132.7864,-151.6684\"/>\n</g>\n<!-- 6 -->\n<g id=\"node7\" class=\"node\">\n<title>6</title>\n<path fill=\"#e99558\" stroke=\"#000000\" d=\"M318,-157C318,-157 186,-157 186,-157 180,-157 174,-151 174,-145 174,-145 174,-101 174,-101 174,-95 180,-89 186,-89 186,-89 318,-89 318,-89 324,-89 330,-95 330,-101 330,-101 330,-145 330,-145 330,-151 324,-157 318,-157\"/>\n<text text-anchor=\"middle\" x=\"252\" y=\"-141.8\" font-family=\"Helvetica,sans-Serif\" font-size=\"14.00\" fill=\"#000000\">education &lt;= 5.5</text>\n<text text-anchor=\"middle\" x=\"252\" y=\"-126.8\" font-family=\"Helvetica,sans-Serif\" font-size=\"14.00\" fill=\"#000000\">samples = 3.3%</text>\n<text text-anchor=\"middle\" x=\"252\" y=\"-111.8\" font-family=\"Helvetica,sans-Serif\" font-size=\"14.00\" fill=\"#000000\">value = [0.864, 0.136]</text>\n<text text-anchor=\"middle\" x=\"252\" y=\"-96.8\" font-family=\"Helvetica,sans-Serif\" font-size=\"14.00\" fill=\"#000000\">class = &lt;50k</text>\n</g>\n<!-- 4&#45;&gt;6 -->\n<g id=\"edge6\" class=\"edge\">\n<title>4&#45;&gt;6</title>\n<path fill=\"none\" stroke=\"#000000\" d=\"M252,-192.9465C252,-184.776 252,-175.9318 252,-167.3697\"/>\n<polygon fill=\"#000000\" stroke=\"#000000\" points=\"255.5001,-167.13 252,-157.13 248.5001,-167.13 255.5001,-167.13\"/>\n</g>\n<!-- 7 -->\n<g id=\"node8\" class=\"node\">\n<title>7</title>\n<path fill=\"#e78d4c\" stroke=\"#000000\" d=\"M144,-53C144,-53 12,-53 12,-53 6,-53 0,-47 0,-41 0,-41 0,-12 0,-12 0,-6 6,0 12,0 12,0 144,0 144,0 150,0 156,-6 156,-12 156,-12 156,-41 156,-41 156,-47 150,-53 144,-53\"/>\n<text text-anchor=\"middle\" x=\"78\" y=\"-37.8\" font-family=\"Helvetica,sans-Serif\" font-size=\"14.00\" fill=\"#000000\">samples = 1.8%</text>\n<text text-anchor=\"middle\" x=\"78\" y=\"-22.8\" font-family=\"Helvetica,sans-Serif\" font-size=\"14.00\" fill=\"#000000\">value = [0.913, 0.087]</text>\n<text text-anchor=\"middle\" x=\"78\" y=\"-7.8\" font-family=\"Helvetica,sans-Serif\" font-size=\"14.00\" fill=\"#000000\">class = &lt;50k</text>\n</g>\n<!-- 6&#45;&gt;7 -->\n<g id=\"edge7\" class=\"edge\">\n<title>6&#45;&gt;7</title>\n<path fill=\"none\" stroke=\"#000000\" d=\"M190.6541,-88.9777C172.5738,-78.9504 152.87,-68.0228 135.0699,-58.1508\"/>\n<polygon fill=\"#000000\" stroke=\"#000000\" points=\"136.3964,-54.8843 125.9537,-53.095 133.0013,-61.0059 136.3964,-54.8843\"/>\n</g>\n<!-- 8 -->\n<g id=\"node9\" class=\"node\">\n<title>8</title>\n<path fill=\"#eba069\" stroke=\"#000000\" d=\"M318,-53C318,-53 186,-53 186,-53 180,-53 174,-47 174,-41 174,-41 174,-12 174,-12 174,-6 180,0 186,0 186,0 318,0 318,0 324,0 330,-6 330,-12 330,-12 330,-41 330,-41 330,-47 324,-53 318,-53\"/>\n<text text-anchor=\"middle\" x=\"252\" y=\"-37.8\" font-family=\"Helvetica,sans-Serif\" font-size=\"14.00\" fill=\"#000000\">samples = 1.5%</text>\n<text text-anchor=\"middle\" x=\"252\" y=\"-22.8\" font-family=\"Helvetica,sans-Serif\" font-size=\"14.00\" fill=\"#000000\">value = [0.804, 0.196]</text>\n<text text-anchor=\"middle\" x=\"252\" y=\"-7.8\" font-family=\"Helvetica,sans-Serif\" font-size=\"14.00\" fill=\"#000000\">class = &lt;50k</text>\n</g>\n<!-- 6&#45;&gt;8 -->\n<g id=\"edge8\" class=\"edge\">\n<title>6&#45;&gt;8</title>\n<path fill=\"none\" stroke=\"#000000\" d=\"M252,-88.9777C252,-80.7364 252,-71.887 252,-63.5153\"/>\n<polygon fill=\"#000000\" stroke=\"#000000\" points=\"255.5001,-63.2484 252,-53.2485 248.5001,-63.2485 255.5001,-63.2484\"/>\n</g>\n<!-- 10 -->\n<g id=\"node11\" class=\"node\">\n<title>10</title>\n<path fill=\"#f1bb94\" stroke=\"#000000\" d=\"M494,-157C494,-157 362,-157 362,-157 356,-157 350,-151 350,-145 350,-145 350,-101 350,-101 350,-95 356,-89 362,-89 362,-89 494,-89 494,-89 500,-89 506,-95 506,-101 506,-101 506,-145 506,-145 506,-151 500,-157 494,-157\"/>\n<text text-anchor=\"middle\" x=\"428\" y=\"-141.8\" font-family=\"Helvetica,sans-Serif\" font-size=\"14.00\" fill=\"#000000\">age &lt;= 35.5</text>\n<text text-anchor=\"middle\" x=\"428\" y=\"-126.8\" font-family=\"Helvetica,sans-Serif\" font-size=\"14.00\" fill=\"#000000\">samples = 21.6%</text>\n<text text-anchor=\"middle\" x=\"428\" y=\"-111.8\" font-family=\"Helvetica,sans-Serif\" font-size=\"14.00\" fill=\"#000000\">value = [0.685, 0.315]</text>\n<text text-anchor=\"middle\" x=\"428\" y=\"-96.8\" font-family=\"Helvetica,sans-Serif\" font-size=\"14.00\" fill=\"#000000\">class = &lt;50k</text>\n</g>\n<!-- 9&#45;&gt;10 -->\n<g id=\"edge10\" class=\"edge\">\n<title>9&#45;&gt;10</title>\n<path fill=\"none\" stroke=\"#000000\" d=\"M514.7606,-192.9465C503.0669,-183.519 490.2606,-173.1946 478.163,-163.4415\"/>\n<polygon fill=\"#000000\" stroke=\"#000000\" points=\"480.3162,-160.6816 470.3343,-157.13 475.9227,-166.1312 480.3162,-160.6816\"/>\n</g>\n<!-- 13 -->\n<g id=\"node14\" class=\"node\">\n<title>13</title>\n<path fill=\"#79bded\" stroke=\"#000000\" d=\"M668,-149.5C668,-149.5 536,-149.5 536,-149.5 530,-149.5 524,-143.5 524,-137.5 524,-137.5 524,-108.5 524,-108.5 524,-102.5 530,-96.5 536,-96.5 536,-96.5 668,-96.5 668,-96.5 674,-96.5 680,-102.5 680,-108.5 680,-108.5 680,-137.5 680,-137.5 680,-143.5 674,-149.5 668,-149.5\"/>\n<text text-anchor=\"middle\" x=\"602\" y=\"-134.3\" font-family=\"Helvetica,sans-Serif\" font-size=\"14.00\" fill=\"#000000\">samples = 1.0%</text>\n<text text-anchor=\"middle\" x=\"602\" y=\"-119.3\" font-family=\"Helvetica,sans-Serif\" font-size=\"14.00\" fill=\"#000000\">value = [0.244, 0.756]</text>\n<text text-anchor=\"middle\" x=\"602\" y=\"-104.3\" font-family=\"Helvetica,sans-Serif\" font-size=\"14.00\" fill=\"#000000\">class = &gt;50k</text>\n</g>\n<!-- 9&#45;&gt;13 -->\n<g id=\"edge13\" class=\"edge\">\n<title>9&#45;&gt;13</title>\n<path fill=\"none\" stroke=\"#000000\" d=\"M571.7347,-192.9465C576.4531,-182.0418 581.6908,-169.9368 586.4645,-158.9043\"/>\n<polygon fill=\"#000000\" stroke=\"#000000\" points=\"589.7564,-160.1098 590.5154,-149.5422 583.332,-157.33 589.7564,-160.1098\"/>\n</g>\n<!-- 11 -->\n<g id=\"node12\" class=\"node\">\n<title>11</title>\n<path fill=\"#eca26c\" stroke=\"#000000\" d=\"M492,-53C492,-53 360,-53 360,-53 354,-53 348,-47 348,-41 348,-41 348,-12 348,-12 348,-6 354,0 360,0 360,0 492,0 492,0 498,0 504,-6 504,-12 504,-12 504,-41 504,-41 504,-47 498,-53 492,-53\"/>\n<text text-anchor=\"middle\" x=\"426\" y=\"-37.8\" font-family=\"Helvetica,sans-Serif\" font-size=\"14.00\" fill=\"#000000\">samples = 7.2%</text>\n<text text-anchor=\"middle\" x=\"426\" y=\"-22.8\" font-family=\"Helvetica,sans-Serif\" font-size=\"14.00\" fill=\"#000000\">value = [0.794, 0.206]</text>\n<text text-anchor=\"middle\" x=\"426\" y=\"-7.8\" font-family=\"Helvetica,sans-Serif\" font-size=\"14.00\" fill=\"#000000\">class = &lt;50k</text>\n</g>\n<!-- 10&#45;&gt;11 -->\n<g id=\"edge11\" class=\"edge\">\n<title>10&#45;&gt;11</title>\n<path fill=\"none\" stroke=\"#000000\" d=\"M427.2949,-88.9777C427.1241,-80.7364 426.9407,-71.887 426.7672,-63.5153\"/>\n<polygon fill=\"#000000\" stroke=\"#000000\" points=\"430.2609,-63.1738 426.5544,-53.2485 423.2624,-63.3189 430.2609,-63.1738\"/>\n</g>\n<!-- 12 -->\n<g id=\"node13\" class=\"node\">\n<title>12</title>\n<path fill=\"#f4cbad\" stroke=\"#000000\" d=\"M666,-53C666,-53 534,-53 534,-53 528,-53 522,-47 522,-41 522,-41 522,-12 522,-12 522,-6 528,0 534,0 534,0 666,0 666,0 672,0 678,-6 678,-12 678,-12 678,-41 678,-41 678,-47 672,-53 666,-53\"/>\n<text text-anchor=\"middle\" x=\"600\" y=\"-37.8\" font-family=\"Helvetica,sans-Serif\" font-size=\"14.00\" fill=\"#000000\">samples = 14.5%</text>\n<text text-anchor=\"middle\" x=\"600\" y=\"-22.8\" font-family=\"Helvetica,sans-Serif\" font-size=\"14.00\" fill=\"#000000\">value = [0.631, 0.369]</text>\n<text text-anchor=\"middle\" x=\"600\" y=\"-7.8\" font-family=\"Helvetica,sans-Serif\" font-size=\"14.00\" fill=\"#000000\">class = &lt;50k</text>\n</g>\n<!-- 10&#45;&gt;12 -->\n<g id=\"edge12\" class=\"edge\">\n<title>10&#45;&gt;12</title>\n<path fill=\"none\" stroke=\"#000000\" d=\"M488.6408,-88.9777C506.5133,-78.9504 525.9905,-68.0228 543.5861,-58.1508\"/>\n<polygon fill=\"#000000\" stroke=\"#000000\" points=\"545.5888,-61.0405 552.5975,-53.095 542.1637,-54.9356 545.5888,-61.0405\"/>\n</g>\n<!-- 16 -->\n<g id=\"node17\" class=\"node\">\n<title>16</title>\n<path fill=\"#98ccf2\" stroke=\"#000000\" d=\"M1075,-365C1075,-365 937,-365 937,-365 931,-365 925,-359 925,-353 925,-353 925,-309 925,-309 925,-303 931,-297 937,-297 937,-297 1075,-297 1075,-297 1081,-297 1087,-303 1087,-309 1087,-309 1087,-353 1087,-353 1087,-359 1081,-365 1075,-365\"/>\n<text text-anchor=\"middle\" x=\"1006\" y=\"-349.8\" font-family=\"Helvetica,sans-Serif\" font-size=\"14.00\" fill=\"#000000\">capital_loss &lt;= 1782.5</text>\n<text text-anchor=\"middle\" x=\"1006\" y=\"-334.8\" font-family=\"Helvetica,sans-Serif\" font-size=\"14.00\" fill=\"#000000\">samples = 10.3%</text>\n<text text-anchor=\"middle\" x=\"1006\" y=\"-319.8\" font-family=\"Helvetica,sans-Serif\" font-size=\"14.00\" fill=\"#000000\">value = [0.325, 0.675]</text>\n<text text-anchor=\"middle\" x=\"1006\" y=\"-304.8\" font-family=\"Helvetica,sans-Serif\" font-size=\"14.00\" fill=\"#000000\">class = &gt;50k</text>\n</g>\n<!-- 15&#45;&gt;16 -->\n<g id=\"edge16\" class=\"edge\">\n<title>15&#45;&gt;16</title>\n<path fill=\"none\" stroke=\"#000000\" d=\"M1010.0354,-400.9465C1009.564,-392.776 1009.0538,-383.9318 1008.5598,-375.3697\"/>\n<polygon fill=\"#000000\" stroke=\"#000000\" points=\"1012.0393,-374.9118 1007.969,-365.13 1005.0509,-375.315 1012.0393,-374.9118\"/>\n</g>\n<!-- 23 -->\n<g id=\"node24\" class=\"node\">\n<title>23</title>\n<path fill=\"#3a9de5\" stroke=\"#000000\" d=\"M1249,-357.5C1249,-357.5 1117,-357.5 1117,-357.5 1111,-357.5 1105,-351.5 1105,-345.5 1105,-345.5 1105,-316.5 1105,-316.5 1105,-310.5 1111,-304.5 1117,-304.5 1117,-304.5 1249,-304.5 1249,-304.5 1255,-304.5 1261,-310.5 1261,-316.5 1261,-316.5 1261,-345.5 1261,-345.5 1261,-351.5 1255,-357.5 1249,-357.5\"/>\n<text text-anchor=\"middle\" x=\"1183\" y=\"-342.3\" font-family=\"Helvetica,sans-Serif\" font-size=\"14.00\" fill=\"#000000\">samples = 1.9%</text>\n<text text-anchor=\"middle\" x=\"1183\" y=\"-327.3\" font-family=\"Helvetica,sans-Serif\" font-size=\"14.00\" fill=\"#000000\">value = [0.005, 0.995]</text>\n<text text-anchor=\"middle\" x=\"1183\" y=\"-312.3\" font-family=\"Helvetica,sans-Serif\" font-size=\"14.00\" fill=\"#000000\">class = &gt;50k</text>\n</g>\n<!-- 15&#45;&gt;23 -->\n<g id=\"edge23\" class=\"edge\">\n<title>15&#45;&gt;23</title>\n<path fill=\"none\" stroke=\"#000000\" d=\"M1067.9918,-400.9465C1088.1856,-388.6649 1110.8826,-374.8609 1130.7445,-362.7811\"/>\n<polygon fill=\"#000000\" stroke=\"#000000\" points=\"1132.6333,-365.7289 1139.3586,-357.5422 1128.9959,-359.7481 1132.6333,-365.7289\"/>\n</g>\n<!-- 17 -->\n<g id=\"node18\" class=\"node\">\n<title>17</title>\n<path fill=\"#a8d4f4\" stroke=\"#000000\" d=\"M902,-261C902,-261 748,-261 748,-261 742,-261 736,-255 736,-249 736,-249 736,-205 736,-205 736,-199 742,-193 748,-193 748,-193 902,-193 902,-193 908,-193 914,-199 914,-205 914,-205 914,-249 914,-249 914,-255 908,-261 902,-261\"/>\n<text text-anchor=\"middle\" x=\"825\" y=\"-245.8\" font-family=\"Helvetica,sans-Serif\" font-size=\"14.00\" fill=\"#000000\">hours_per_week &lt;= 36.5</text>\n<text text-anchor=\"middle\" x=\"825\" y=\"-230.8\" font-family=\"Helvetica,sans-Serif\" font-size=\"14.00\" fill=\"#000000\">samples = 9.2%</text>\n<text text-anchor=\"middle\" x=\"825\" y=\"-215.8\" font-family=\"Helvetica,sans-Serif\" font-size=\"14.00\" fill=\"#000000\">value = [0.36, 0.64]</text>\n<text text-anchor=\"middle\" x=\"825\" y=\"-200.8\" font-family=\"Helvetica,sans-Serif\" font-size=\"14.00\" fill=\"#000000\">class = &gt;50k</text>\n</g>\n<!-- 16&#45;&gt;17 -->\n<g id=\"edge17\" class=\"edge\">\n<title>16&#45;&gt;17</title>\n<path fill=\"none\" stroke=\"#000000\" d=\"M946.7338,-296.9465C929.7014,-287.1599 910.9866,-276.4066 893.4483,-266.3294\"/>\n<polygon fill=\"#000000\" stroke=\"#000000\" points=\"894.8137,-263.0773 884.3993,-261.13 891.3262,-269.1468 894.8137,-263.0773\"/>\n</g>\n<!-- 22 -->\n<g id=\"node23\" class=\"node\">\n<title>22</title>\n<path fill=\"#40a1e6\" stroke=\"#000000\" d=\"M1076,-253.5C1076,-253.5 944,-253.5 944,-253.5 938,-253.5 932,-247.5 932,-241.5 932,-241.5 932,-212.5 932,-212.5 932,-206.5 938,-200.5 944,-200.5 944,-200.5 1076,-200.5 1076,-200.5 1082,-200.5 1088,-206.5 1088,-212.5 1088,-212.5 1088,-241.5 1088,-241.5 1088,-247.5 1082,-253.5 1076,-253.5\"/>\n<text text-anchor=\"middle\" x=\"1010\" y=\"-238.3\" font-family=\"Helvetica,sans-Serif\" font-size=\"14.00\" fill=\"#000000\">samples = 1.1%</text>\n<text text-anchor=\"middle\" x=\"1010\" y=\"-223.3\" font-family=\"Helvetica,sans-Serif\" font-size=\"14.00\" fill=\"#000000\">value = [0.036, 0.964]</text>\n<text text-anchor=\"middle\" x=\"1010\" y=\"-208.3\" font-family=\"Helvetica,sans-Serif\" font-size=\"14.00\" fill=\"#000000\">class = &gt;50k</text>\n</g>\n<!-- 16&#45;&gt;22 -->\n<g id=\"edge22\" class=\"edge\">\n<title>16&#45;&gt;22</title>\n<path fill=\"none\" stroke=\"#000000\" d=\"M1007.3097,-296.9465C1007.7207,-286.2621 1008.1759,-274.4254 1008.5933,-263.5742\"/>\n<polygon fill=\"#000000\" stroke=\"#000000\" points=\"1012.0921,-263.6693 1008.9791,-253.5422 1005.0973,-263.4002 1012.0921,-263.6693\"/>\n</g>\n<!-- 18 -->\n<g id=\"node19\" class=\"node\">\n<title>18</title>\n<path fill=\"#f5d0b5\" stroke=\"#000000\" d=\"M846,-149.5C846,-149.5 714,-149.5 714,-149.5 708,-149.5 702,-143.5 702,-137.5 702,-137.5 702,-108.5 702,-108.5 702,-102.5 708,-96.5 714,-96.5 714,-96.5 846,-96.5 846,-96.5 852,-96.5 858,-102.5 858,-108.5 858,-108.5 858,-137.5 858,-137.5 858,-143.5 852,-149.5 846,-149.5\"/>\n<text text-anchor=\"middle\" x=\"780\" y=\"-134.3\" font-family=\"Helvetica,sans-Serif\" font-size=\"14.00\" fill=\"#000000\">samples = 1.0%</text>\n<text text-anchor=\"middle\" x=\"780\" y=\"-119.3\" font-family=\"Helvetica,sans-Serif\" font-size=\"14.00\" fill=\"#000000\">value = [0.615, 0.385]</text>\n<text text-anchor=\"middle\" x=\"780\" y=\"-104.3\" font-family=\"Helvetica,sans-Serif\" font-size=\"14.00\" fill=\"#000000\">class = &lt;50k</text>\n</g>\n<!-- 17&#45;&gt;18 -->\n<g id=\"edge18\" class=\"edge\">\n<title>17&#45;&gt;18</title>\n<path fill=\"none\" stroke=\"#000000\" d=\"M810.2653,-192.9465C805.5469,-182.0418 800.3092,-169.9368 795.5355,-158.9043\"/>\n<polygon fill=\"#000000\" stroke=\"#000000\" points=\"798.668,-157.33 791.4846,-149.5422 792.2436,-160.1098 798.668,-157.33\"/>\n</g>\n<!-- 19 -->\n<g id=\"node20\" class=\"node\">\n<title>19</title>\n<path fill=\"#9bcdf2\" stroke=\"#000000\" d=\"M1004,-157C1004,-157 888,-157 888,-157 882,-157 876,-151 876,-145 876,-145 876,-101 876,-101 876,-95 882,-89 888,-89 888,-89 1004,-89 1004,-89 1010,-89 1016,-95 1016,-101 1016,-101 1016,-145 1016,-145 1016,-151 1010,-157 1004,-157\"/>\n<text text-anchor=\"middle\" x=\"946\" y=\"-141.8\" font-family=\"Helvetica,sans-Serif\" font-size=\"14.00\" fill=\"#000000\">education &lt;= 13.5</text>\n<text text-anchor=\"middle\" x=\"946\" y=\"-126.8\" font-family=\"Helvetica,sans-Serif\" font-size=\"14.00\" fill=\"#000000\">samples = 8.2%</text>\n<text text-anchor=\"middle\" x=\"946\" y=\"-111.8\" font-family=\"Helvetica,sans-Serif\" font-size=\"14.00\" fill=\"#000000\">value = [0.33, 0.67]</text>\n<text text-anchor=\"middle\" x=\"946\" y=\"-96.8\" font-family=\"Helvetica,sans-Serif\" font-size=\"14.00\" fill=\"#000000\">class = &gt;50k</text>\n</g>\n<!-- 17&#45;&gt;19 -->\n<g id=\"edge19\" class=\"edge\">\n<title>17&#45;&gt;19</title>\n<path fill=\"none\" stroke=\"#000000\" d=\"M864.6199,-192.9465C875.484,-183.6088 887.3718,-173.3911 898.6235,-163.7203\"/>\n<polygon fill=\"#000000\" stroke=\"#000000\" points=\"900.9887,-166.3026 906.2911,-157.13 896.4259,-160.994 900.9887,-166.3026\"/>\n</g>\n<!-- 20 -->\n<g id=\"node21\" class=\"node\">\n<title>20</title>\n<path fill=\"#afd7f4\" stroke=\"#000000\" d=\"M840,-53C840,-53 708,-53 708,-53 702,-53 696,-47 696,-41 696,-41 696,-12 696,-12 696,-6 702,0 708,0 708,0 840,0 840,0 846,0 852,-6 852,-12 852,-12 852,-41 852,-41 852,-47 846,-53 840,-53\"/>\n<text text-anchor=\"middle\" x=\"774\" y=\"-37.8\" font-family=\"Helvetica,sans-Serif\" font-size=\"14.00\" fill=\"#000000\">samples = 5.2%</text>\n<text text-anchor=\"middle\" x=\"774\" y=\"-22.8\" font-family=\"Helvetica,sans-Serif\" font-size=\"14.00\" fill=\"#000000\">value = [0.373, 0.627]</text>\n<text text-anchor=\"middle\" x=\"774\" y=\"-7.8\" font-family=\"Helvetica,sans-Serif\" font-size=\"14.00\" fill=\"#000000\">class = &gt;50k</text>\n</g>\n<!-- 19&#45;&gt;20 -->\n<g id=\"edge20\" class=\"edge\">\n<title>19&#45;&gt;20</title>\n<path fill=\"none\" stroke=\"#000000\" d=\"M885.3592,-88.9777C867.4867,-78.9504 848.0095,-68.0228 830.4139,-58.1508\"/>\n<polygon fill=\"#000000\" stroke=\"#000000\" points=\"831.8363,-54.9356 821.4025,-53.095 828.4112,-61.0405 831.8363,-54.9356\"/>\n</g>\n<!-- 21 -->\n<g id=\"node22\" class=\"node\">\n<title>21</title>\n<path fill=\"#7ebfee\" stroke=\"#000000\" d=\"M1014,-53C1014,-53 882,-53 882,-53 876,-53 870,-47 870,-41 870,-41 870,-12 870,-12 870,-6 876,0 882,0 882,0 1014,0 1014,0 1020,0 1026,-6 1026,-12 1026,-12 1026,-41 1026,-41 1026,-47 1020,-53 1014,-53\"/>\n<text text-anchor=\"middle\" x=\"948\" y=\"-37.8\" font-family=\"Helvetica,sans-Serif\" font-size=\"14.00\" fill=\"#000000\">samples = 3.0%</text>\n<text text-anchor=\"middle\" x=\"948\" y=\"-22.8\" font-family=\"Helvetica,sans-Serif\" font-size=\"14.00\" fill=\"#000000\">value = [0.257, 0.743]</text>\n<text text-anchor=\"middle\" x=\"948\" y=\"-7.8\" font-family=\"Helvetica,sans-Serif\" font-size=\"14.00\" fill=\"#000000\">class = &gt;50k</text>\n</g>\n<!-- 19&#45;&gt;21 -->\n<g id=\"edge21\" class=\"edge\">\n<title>19&#45;&gt;21</title>\n<path fill=\"none\" stroke=\"#000000\" d=\"M946.7051,-88.9777C946.8759,-80.7364 947.0593,-71.887 947.2328,-63.5153\"/>\n<polygon fill=\"#000000\" stroke=\"#000000\" points=\"950.7376,-63.3189 947.4456,-53.2485 943.7391,-63.1738 950.7376,-63.3189\"/>\n</g>\n<!-- 25 -->\n<g id=\"node26\" class=\"node\">\n<title>25</title>\n<path fill=\"#e78c4a\" stroke=\"#000000\" d=\"M1764,-469C1764,-469 1632,-469 1632,-469 1626,-469 1620,-463 1620,-457 1620,-457 1620,-413 1620,-413 1620,-407 1626,-401 1632,-401 1632,-401 1764,-401 1764,-401 1770,-401 1776,-407 1776,-413 1776,-413 1776,-457 1776,-457 1776,-463 1770,-469 1764,-469\"/>\n<text text-anchor=\"middle\" x=\"1698\" y=\"-453.8\" font-family=\"Helvetica,sans-Serif\" font-size=\"14.00\" fill=\"#000000\">relationship &lt;= 4.5</text>\n<text text-anchor=\"middle\" x=\"1698\" y=\"-438.8\" font-family=\"Helvetica,sans-Serif\" font-size=\"14.00\" fill=\"#000000\">samples = 58.1%</text>\n<text text-anchor=\"middle\" x=\"1698\" y=\"-423.8\" font-family=\"Helvetica,sans-Serif\" font-size=\"14.00\" fill=\"#000000\">value = [0.919, 0.081]</text>\n<text text-anchor=\"middle\" x=\"1698\" y=\"-408.8\" font-family=\"Helvetica,sans-Serif\" font-size=\"14.00\" fill=\"#000000\">class = &lt;50k</text>\n</g>\n<!-- 24&#45;&gt;25 -->\n<g id=\"edge25\" class=\"edge\">\n<title>24&#45;&gt;25</title>\n<path fill=\"none\" stroke=\"#000000\" d=\"M1698,-504.9465C1698,-496.776 1698,-487.9318 1698,-479.3697\"/>\n<polygon fill=\"#000000\" stroke=\"#000000\" points=\"1701.5001,-479.13 1698,-469.13 1694.5001,-479.13 1701.5001,-479.13\"/>\n</g>\n<!-- 46 -->\n<g id=\"node47\" class=\"node\">\n<title>46</title>\n<path fill=\"#3ea0e6\" stroke=\"#000000\" d=\"M1938,-461.5C1938,-461.5 1806,-461.5 1806,-461.5 1800,-461.5 1794,-455.5 1794,-449.5 1794,-449.5 1794,-420.5 1794,-420.5 1794,-414.5 1800,-408.5 1806,-408.5 1806,-408.5 1938,-408.5 1938,-408.5 1944,-408.5 1950,-414.5 1950,-420.5 1950,-420.5 1950,-449.5 1950,-449.5 1950,-455.5 1944,-461.5 1938,-461.5\"/>\n<text text-anchor=\"middle\" x=\"1872\" y=\"-446.3\" font-family=\"Helvetica,sans-Serif\" font-size=\"14.00\" fill=\"#000000\">samples = 1.3%</text>\n<text text-anchor=\"middle\" x=\"1872\" y=\"-431.3\" font-family=\"Helvetica,sans-Serif\" font-size=\"14.00\" fill=\"#000000\">value = [0.027, 0.973]</text>\n<text text-anchor=\"middle\" x=\"1872\" y=\"-416.3\" font-family=\"Helvetica,sans-Serif\" font-size=\"14.00\" fill=\"#000000\">class = &gt;50k</text>\n</g>\n<!-- 24&#45;&gt;46 -->\n<g id=\"edge46\" class=\"edge\">\n<title>24&#45;&gt;46</title>\n<path fill=\"none\" stroke=\"#000000\" d=\"M1754.9741,-504.9465C1775.5222,-492.6649 1798.6173,-478.8609 1818.8277,-466.7811\"/>\n<polygon fill=\"#000000\" stroke=\"#000000\" points=\"1820.805,-469.6769 1827.5929,-461.5422 1817.2136,-463.6684 1820.805,-469.6769\"/>\n</g>\n<!-- 26 -->\n<g id=\"node27\" class=\"node\">\n<title>26</title>\n<path fill=\"#e68844\" stroke=\"#000000\" d=\"M1764,-365C1764,-365 1632,-365 1632,-365 1626,-365 1620,-359 1620,-353 1620,-353 1620,-309 1620,-309 1620,-303 1626,-297 1632,-297 1632,-297 1764,-297 1764,-297 1770,-297 1776,-303 1776,-309 1776,-309 1776,-353 1776,-353 1776,-359 1770,-365 1764,-365\"/>\n<text text-anchor=\"middle\" x=\"1698\" y=\"-349.8\" font-family=\"Helvetica,sans-Serif\" font-size=\"14.00\" fill=\"#000000\">education &lt;= 12.5</text>\n<text text-anchor=\"middle\" x=\"1698\" y=\"-334.8\" font-family=\"Helvetica,sans-Serif\" font-size=\"14.00\" fill=\"#000000\">samples = 53.6%</text>\n<text text-anchor=\"middle\" x=\"1698\" y=\"-319.8\" font-family=\"Helvetica,sans-Serif\" font-size=\"14.00\" fill=\"#000000\">value = [0.949, 0.051]</text>\n<text text-anchor=\"middle\" x=\"1698\" y=\"-304.8\" font-family=\"Helvetica,sans-Serif\" font-size=\"14.00\" fill=\"#000000\">class = &lt;50k</text>\n</g>\n<!-- 25&#45;&gt;26 -->\n<g id=\"edge26\" class=\"edge\">\n<title>25&#45;&gt;26</title>\n<path fill=\"none\" stroke=\"#000000\" d=\"M1698,-400.9465C1698,-392.776 1698,-383.9318 1698,-375.3697\"/>\n<polygon fill=\"#000000\" stroke=\"#000000\" points=\"1701.5001,-375.13 1698,-365.13 1694.5001,-375.13 1701.5001,-375.13\"/>\n</g>\n<!-- 41 -->\n<g id=\"node42\" class=\"node\">\n<title>41</title>\n<path fill=\"#f9e4d4\" stroke=\"#000000\" d=\"M2340,-365C2340,-365 2208,-365 2208,-365 2202,-365 2196,-359 2196,-353 2196,-353 2196,-309 2196,-309 2196,-303 2202,-297 2208,-297 2208,-297 2340,-297 2340,-297 2346,-297 2352,-303 2352,-309 2352,-309 2352,-353 2352,-353 2352,-359 2346,-365 2340,-365\"/>\n<text text-anchor=\"middle\" x=\"2274\" y=\"-349.8\" font-family=\"Helvetica,sans-Serif\" font-size=\"14.00\" fill=\"#000000\">education &lt;= 10.5</text>\n<text text-anchor=\"middle\" x=\"2274\" y=\"-334.8\" font-family=\"Helvetica,sans-Serif\" font-size=\"14.00\" fill=\"#000000\">samples = 4.5%</text>\n<text text-anchor=\"middle\" x=\"2274\" y=\"-319.8\" font-family=\"Helvetica,sans-Serif\" font-size=\"14.00\" fill=\"#000000\">value = [0.561, 0.439]</text>\n<text text-anchor=\"middle\" x=\"2274\" y=\"-304.8\" font-family=\"Helvetica,sans-Serif\" font-size=\"14.00\" fill=\"#000000\">class = &lt;50k</text>\n</g>\n<!-- 25&#45;&gt;41 -->\n<g id=\"edge41\" class=\"edge\">\n<title>25&#45;&gt;41</title>\n<path fill=\"none\" stroke=\"#000000\" d=\"M1776.4506,-403.4072C1779.3212,-402.5496 1782.1772,-401.743 1785,-401 1922.3746,-364.8422 2086.6949,-346.1695 2185.5813,-337.4925\"/>\n<polygon fill=\"#000000\" stroke=\"#000000\" points=\"2186.1678,-340.955 2195.83,-336.6085 2185.5661,-333.9809 2186.1678,-340.955\"/>\n</g>\n<!-- 27 -->\n<g id=\"node28\" class=\"node\">\n<title>27</title>\n<path fill=\"#e6843e\" stroke=\"#000000\" d=\"M1636,-261C1636,-261 1504,-261 1504,-261 1498,-261 1492,-255 1492,-249 1492,-249 1492,-205 1492,-205 1492,-199 1498,-193 1504,-193 1504,-193 1636,-193 1636,-193 1642,-193 1648,-199 1648,-205 1648,-205 1648,-249 1648,-249 1648,-255 1642,-261 1636,-261\"/>\n<text text-anchor=\"middle\" x=\"1570\" y=\"-245.8\" font-family=\"Helvetica,sans-Serif\" font-size=\"14.00\" fill=\"#000000\">age &lt;= 25.5</text>\n<text text-anchor=\"middle\" x=\"1570\" y=\"-230.8\" font-family=\"Helvetica,sans-Serif\" font-size=\"14.00\" fill=\"#000000\">samples = 43.0%</text>\n<text text-anchor=\"middle\" x=\"1570\" y=\"-215.8\" font-family=\"Helvetica,sans-Serif\" font-size=\"14.00\" fill=\"#000000\">value = [0.974, 0.026]</text>\n<text text-anchor=\"middle\" x=\"1570\" y=\"-200.8\" font-family=\"Helvetica,sans-Serif\" font-size=\"14.00\" fill=\"#000000\">class = &lt;50k</text>\n</g>\n<!-- 26&#45;&gt;27 -->\n<g id=\"edge27\" class=\"edge\">\n<title>26&#45;&gt;27</title>\n<path fill=\"none\" stroke=\"#000000\" d=\"M1656.088,-296.9465C1644.485,-287.519 1631.7779,-277.1946 1619.7741,-267.4415\"/>\n<polygon fill=\"#000000\" stroke=\"#000000\" points=\"1621.9744,-264.7196 1612.0061,-261.13 1617.5602,-270.1524 1621.9744,-264.7196\"/>\n</g>\n<!-- 34 -->\n<g id=\"node35\" class=\"node\">\n<title>34</title>\n<path fill=\"#ea985d\" stroke=\"#000000\" d=\"M1893,-261C1893,-261 1761,-261 1761,-261 1755,-261 1749,-255 1749,-249 1749,-249 1749,-205 1749,-205 1749,-199 1755,-193 1761,-193 1761,-193 1893,-193 1893,-193 1899,-193 1905,-199 1905,-205 1905,-205 1905,-249 1905,-249 1905,-255 1899,-261 1893,-261\"/>\n<text text-anchor=\"middle\" x=\"1827\" y=\"-245.8\" font-family=\"Helvetica,sans-Serif\" font-size=\"14.00\" fill=\"#000000\">age &lt;= 27.5</text>\n<text text-anchor=\"middle\" x=\"1827\" y=\"-230.8\" font-family=\"Helvetica,sans-Serif\" font-size=\"14.00\" fill=\"#000000\">samples = 10.5%</text>\n<text text-anchor=\"middle\" x=\"1827\" y=\"-215.8\" font-family=\"Helvetica,sans-Serif\" font-size=\"14.00\" fill=\"#000000\">value = [0.848, 0.152]</text>\n<text text-anchor=\"middle\" x=\"1827\" y=\"-200.8\" font-family=\"Helvetica,sans-Serif\" font-size=\"14.00\" fill=\"#000000\">class = &lt;50k</text>\n</g>\n<!-- 26&#45;&gt;34 -->\n<g id=\"edge34\" class=\"edge\">\n<title>26&#45;&gt;34</title>\n<path fill=\"none\" stroke=\"#000000\" d=\"M1740.2394,-296.9465C1751.9331,-287.519 1764.7394,-277.1946 1776.837,-267.4415\"/>\n<polygon fill=\"#000000\" stroke=\"#000000\" points=\"1779.0773,-270.1312 1784.6657,-261.13 1774.6838,-264.6816 1779.0773,-270.1312\"/>\n</g>\n<!-- 28 -->\n<g id=\"node29\" class=\"node\">\n<title>28</title>\n<path fill=\"#e58139\" stroke=\"#000000\" d=\"M1330,-157C1330,-157 1198,-157 1198,-157 1192,-157 1186,-151 1186,-145 1186,-145 1186,-101 1186,-101 1186,-95 1192,-89 1198,-89 1198,-89 1330,-89 1330,-89 1336,-89 1342,-95 1342,-101 1342,-101 1342,-145 1342,-145 1342,-151 1336,-157 1330,-157\"/>\n<text text-anchor=\"middle\" x=\"1264\" y=\"-141.8\" font-family=\"Helvetica,sans-Serif\" font-size=\"14.00\" fill=\"#000000\">age &lt;= 20.5</text>\n<text text-anchor=\"middle\" x=\"1264\" y=\"-126.8\" font-family=\"Helvetica,sans-Serif\" font-size=\"14.00\" fill=\"#000000\">samples = 15.6%</text>\n<text text-anchor=\"middle\" x=\"1264\" y=\"-111.8\" font-family=\"Helvetica,sans-Serif\" font-size=\"14.00\" fill=\"#000000\">value = [0.998, 0.002]</text>\n<text text-anchor=\"middle\" x=\"1264\" y=\"-96.8\" font-family=\"Helvetica,sans-Serif\" font-size=\"14.00\" fill=\"#000000\">class = &lt;50k</text>\n</g>\n<!-- 27&#45;&gt;28 -->\n<g id=\"edge28\" class=\"edge\">\n<title>27&#45;&gt;28</title>\n<path fill=\"none\" stroke=\"#000000\" d=\"M1491.9915,-200.4873C1449.1828,-185.9379 1395.9682,-167.8519 1351.7194,-152.8131\"/>\n<polygon fill=\"#000000\" stroke=\"#000000\" points=\"1352.726,-149.4587 1342.1316,-149.5545 1350.4734,-156.0864 1352.726,-149.4587\"/>\n</g>\n<!-- 31 -->\n<g id=\"node32\" class=\"node\">\n<title>31</title>\n<path fill=\"#e68641\" stroke=\"#000000\" d=\"M1647,-157C1647,-157 1493,-157 1493,-157 1487,-157 1481,-151 1481,-145 1481,-145 1481,-101 1481,-101 1481,-95 1487,-89 1493,-89 1493,-89 1647,-89 1647,-89 1653,-89 1659,-95 1659,-101 1659,-101 1659,-145 1659,-145 1659,-151 1653,-157 1647,-157\"/>\n<text text-anchor=\"middle\" x=\"1570\" y=\"-141.8\" font-family=\"Helvetica,sans-Serif\" font-size=\"14.00\" fill=\"#000000\">hours_per_week &lt;= 44.5</text>\n<text text-anchor=\"middle\" x=\"1570\" y=\"-126.8\" font-family=\"Helvetica,sans-Serif\" font-size=\"14.00\" fill=\"#000000\">samples = 27.4%</text>\n<text text-anchor=\"middle\" x=\"1570\" y=\"-111.8\" font-family=\"Helvetica,sans-Serif\" font-size=\"14.00\" fill=\"#000000\">value = [0.96, 0.04]</text>\n<text text-anchor=\"middle\" x=\"1570\" y=\"-96.8\" font-family=\"Helvetica,sans-Serif\" font-size=\"14.00\" fill=\"#000000\">class = &lt;50k</text>\n</g>\n<!-- 27&#45;&gt;31 -->\n<g id=\"edge31\" class=\"edge\">\n<title>27&#45;&gt;31</title>\n<path fill=\"none\" stroke=\"#000000\" d=\"M1570,-192.9465C1570,-184.776 1570,-175.9318 1570,-167.3697\"/>\n<polygon fill=\"#000000\" stroke=\"#000000\" points=\"1573.5001,-167.13 1570,-157.13 1566.5001,-167.13 1573.5001,-167.13\"/>\n</g>\n<!-- 29 -->\n<g id=\"node30\" class=\"node\">\n<title>29</title>\n<path fill=\"#e58139\" stroke=\"#000000\" d=\"M1155.5,-53C1155.5,-53 1056.5,-53 1056.5,-53 1050.5,-53 1044.5,-47 1044.5,-41 1044.5,-41 1044.5,-12 1044.5,-12 1044.5,-6 1050.5,0 1056.5,0 1056.5,0 1155.5,0 1155.5,0 1161.5,0 1167.5,-6 1167.5,-12 1167.5,-12 1167.5,-41 1167.5,-41 1167.5,-47 1161.5,-53 1155.5,-53\"/>\n<text text-anchor=\"middle\" x=\"1106\" y=\"-37.8\" font-family=\"Helvetica,sans-Serif\" font-size=\"14.00\" fill=\"#000000\">samples = 7.2%</text>\n<text text-anchor=\"middle\" x=\"1106\" y=\"-22.8\" font-family=\"Helvetica,sans-Serif\" font-size=\"14.00\" fill=\"#000000\">value = [1.0, 0.0]</text>\n<text text-anchor=\"middle\" x=\"1106\" y=\"-7.8\" font-family=\"Helvetica,sans-Serif\" font-size=\"14.00\" fill=\"#000000\">class = &lt;50k</text>\n</g>\n<!-- 28&#45;&gt;29 -->\n<g id=\"edge29\" class=\"edge\">\n<title>28&#45;&gt;29</title>\n<path fill=\"none\" stroke=\"#000000\" d=\"M1208.2951,-88.9777C1192.028,-79.0424 1174.3136,-68.2232 1158.2674,-58.4228\"/>\n<polygon fill=\"#000000\" stroke=\"#000000\" points=\"1159.9027,-55.3204 1149.5442,-53.095 1156.254,-61.2943 1159.9027,-55.3204\"/>\n</g>\n<!-- 30 -->\n<g id=\"node31\" class=\"node\">\n<title>30</title>\n<path fill=\"#e5813a\" stroke=\"#000000\" d=\"M1330,-53C1330,-53 1198,-53 1198,-53 1192,-53 1186,-47 1186,-41 1186,-41 1186,-12 1186,-12 1186,-6 1192,0 1198,0 1198,0 1330,0 1330,0 1336,0 1342,-6 1342,-12 1342,-12 1342,-41 1342,-41 1342,-47 1336,-53 1330,-53\"/>\n<text text-anchor=\"middle\" x=\"1264\" y=\"-37.8\" font-family=\"Helvetica,sans-Serif\" font-size=\"14.00\" fill=\"#000000\">samples = 8.4%</text>\n<text text-anchor=\"middle\" x=\"1264\" y=\"-22.8\" font-family=\"Helvetica,sans-Serif\" font-size=\"14.00\" fill=\"#000000\">value = [0.996, 0.004]</text>\n<text text-anchor=\"middle\" x=\"1264\" y=\"-7.8\" font-family=\"Helvetica,sans-Serif\" font-size=\"14.00\" fill=\"#000000\">class = &lt;50k</text>\n</g>\n<!-- 28&#45;&gt;30 -->\n<g id=\"edge30\" class=\"edge\">\n<title>28&#45;&gt;30</title>\n<path fill=\"none\" stroke=\"#000000\" d=\"M1264,-88.9777C1264,-80.7364 1264,-71.887 1264,-63.5153\"/>\n<polygon fill=\"#000000\" stroke=\"#000000\" points=\"1267.5001,-63.2484 1264,-53.2485 1260.5001,-63.2485 1267.5001,-63.2484\"/>\n</g>\n<!-- 32 -->\n<g id=\"node33\" class=\"node\">\n<title>32</title>\n<path fill=\"#e6843e\" stroke=\"#000000\" d=\"M1504,-53C1504,-53 1372,-53 1372,-53 1366,-53 1360,-47 1360,-41 1360,-41 1360,-12 1360,-12 1360,-6 1366,0 1372,0 1372,0 1504,0 1504,0 1510,0 1516,-6 1516,-12 1516,-12 1516,-41 1516,-41 1516,-47 1510,-53 1504,-53\"/>\n<text text-anchor=\"middle\" x=\"1438\" y=\"-37.8\" font-family=\"Helvetica,sans-Serif\" font-size=\"14.00\" fill=\"#000000\">samples = 22.0%</text>\n<text text-anchor=\"middle\" x=\"1438\" y=\"-22.8\" font-family=\"Helvetica,sans-Serif\" font-size=\"14.00\" fill=\"#000000\">value = [0.975, 0.025]</text>\n<text text-anchor=\"middle\" x=\"1438\" y=\"-7.8\" font-family=\"Helvetica,sans-Serif\" font-size=\"14.00\" fill=\"#000000\">class = &lt;50k</text>\n</g>\n<!-- 31&#45;&gt;32 -->\n<g id=\"edge32\" class=\"edge\">\n<title>31&#45;&gt;32</title>\n<path fill=\"none\" stroke=\"#000000\" d=\"M1523.4617,-88.9777C1510.3099,-79.3629 1496.0257,-68.9203 1482.968,-59.3743\"/>\n<polygon fill=\"#000000\" stroke=\"#000000\" points=\"1484.727,-56.3247 1474.5886,-53.2485 1480.5958,-61.9757 1484.727,-56.3247\"/>\n</g>\n<!-- 33 -->\n<g id=\"node34\" class=\"node\">\n<title>33</title>\n<path fill=\"#e88f4f\" stroke=\"#000000\" d=\"M1678,-53C1678,-53 1546,-53 1546,-53 1540,-53 1534,-47 1534,-41 1534,-41 1534,-12 1534,-12 1534,-6 1540,0 1546,0 1546,0 1678,0 1678,0 1684,0 1690,-6 1690,-12 1690,-12 1690,-41 1690,-41 1690,-47 1684,-53 1678,-53\"/>\n<text text-anchor=\"middle\" x=\"1612\" y=\"-37.8\" font-family=\"Helvetica,sans-Serif\" font-size=\"14.00\" fill=\"#000000\">samples = 5.4%</text>\n<text text-anchor=\"middle\" x=\"1612\" y=\"-22.8\" font-family=\"Helvetica,sans-Serif\" font-size=\"14.00\" fill=\"#000000\">value = [0.901, 0.099]</text>\n<text text-anchor=\"middle\" x=\"1612\" y=\"-7.8\" font-family=\"Helvetica,sans-Serif\" font-size=\"14.00\" fill=\"#000000\">class = &lt;50k</text>\n</g>\n<!-- 31&#45;&gt;33 -->\n<g id=\"edge33\" class=\"edge\">\n<title>31&#45;&gt;33</title>\n<path fill=\"none\" stroke=\"#000000\" d=\"M1584.8076,-88.9777C1588.5141,-80.4617 1592.5031,-71.2963 1596.2534,-62.6798\"/>\n<polygon fill=\"#000000\" stroke=\"#000000\" points=\"1599.5766,-63.8145 1600.3582,-53.2485 1593.1582,-61.0209 1599.5766,-63.8145\"/>\n</g>\n<!-- 35 -->\n<g id=\"node36\" class=\"node\">\n<title>35</title>\n<path fill=\"#e6843d\" stroke=\"#000000\" d=\"M1885,-157C1885,-157 1769,-157 1769,-157 1763,-157 1757,-151 1757,-145 1757,-145 1757,-101 1757,-101 1757,-95 1763,-89 1769,-89 1769,-89 1885,-89 1885,-89 1891,-89 1897,-95 1897,-101 1897,-101 1897,-145 1897,-145 1897,-151 1891,-157 1885,-157\"/>\n<text text-anchor=\"middle\" x=\"1827\" y=\"-141.8\" font-family=\"Helvetica,sans-Serif\" font-size=\"14.00\" fill=\"#000000\">age &lt;= 24.5</text>\n<text text-anchor=\"middle\" x=\"1827\" y=\"-126.8\" font-family=\"Helvetica,sans-Serif\" font-size=\"14.00\" fill=\"#000000\">samples = 3.1%</text>\n<text text-anchor=\"middle\" x=\"1827\" y=\"-111.8\" font-family=\"Helvetica,sans-Serif\" font-size=\"14.00\" fill=\"#000000\">value = [0.98, 0.02]</text>\n<text text-anchor=\"middle\" x=\"1827\" y=\"-96.8\" font-family=\"Helvetica,sans-Serif\" font-size=\"14.00\" fill=\"#000000\">class = &lt;50k</text>\n</g>\n<!-- 34&#45;&gt;35 -->\n<g id=\"edge35\" class=\"edge\">\n<title>34&#45;&gt;35</title>\n<path fill=\"none\" stroke=\"#000000\" d=\"M1827,-192.9465C1827,-184.776 1827,-175.9318 1827,-167.3697\"/>\n<polygon fill=\"#000000\" stroke=\"#000000\" points=\"1830.5001,-167.13 1827,-157.13 1823.5001,-167.13 1830.5001,-167.13\"/>\n</g>\n<!-- 38 -->\n<g id=\"node39\" class=\"node\">\n<title>38</title>\n<path fill=\"#eca26d\" stroke=\"#000000\" d=\"M2166,-157C2166,-157 2012,-157 2012,-157 2006,-157 2000,-151 2000,-145 2000,-145 2000,-101 2000,-101 2000,-95 2006,-89 2012,-89 2012,-89 2166,-89 2166,-89 2172,-89 2178,-95 2178,-101 2178,-101 2178,-145 2178,-145 2178,-151 2172,-157 2166,-157\"/>\n<text text-anchor=\"middle\" x=\"2089\" y=\"-141.8\" font-family=\"Helvetica,sans-Serif\" font-size=\"14.00\" fill=\"#000000\">hours_per_week &lt;= 43.5</text>\n<text text-anchor=\"middle\" x=\"2089\" y=\"-126.8\" font-family=\"Helvetica,sans-Serif\" font-size=\"14.00\" fill=\"#000000\">samples = 7.4%</text>\n<text text-anchor=\"middle\" x=\"2089\" y=\"-111.8\" font-family=\"Helvetica,sans-Serif\" font-size=\"14.00\" fill=\"#000000\">value = [0.793, 0.207]</text>\n<text text-anchor=\"middle\" x=\"2089\" y=\"-96.8\" font-family=\"Helvetica,sans-Serif\" font-size=\"14.00\" fill=\"#000000\">class = &lt;50k</text>\n</g>\n<!-- 34&#45;&gt;38 -->\n<g id=\"edge38\" class=\"edge\">\n<title>34&#45;&gt;38</title>\n<path fill=\"none\" stroke=\"#000000\" d=\"M1905.2538,-195.9374C1933.0102,-184.9196 1964.5593,-172.3963 1993.5861,-160.8742\"/>\n<polygon fill=\"#000000\" stroke=\"#000000\" points=\"1994.9105,-164.1142 2002.9138,-157.1716 1992.3279,-157.608 1994.9105,-164.1142\"/>\n</g>\n<!-- 36 -->\n<g id=\"node37\" class=\"node\">\n<title>36</title>\n<path fill=\"#e5823b\" stroke=\"#000000\" d=\"M1852,-53C1852,-53 1720,-53 1720,-53 1714,-53 1708,-47 1708,-41 1708,-41 1708,-12 1708,-12 1708,-6 1714,0 1720,0 1720,0 1852,0 1852,0 1858,0 1864,-6 1864,-12 1864,-12 1864,-41 1864,-41 1864,-47 1858,-53 1852,-53\"/>\n<text text-anchor=\"middle\" x=\"1786\" y=\"-37.8\" font-family=\"Helvetica,sans-Serif\" font-size=\"14.00\" fill=\"#000000\">samples = 1.4%</text>\n<text text-anchor=\"middle\" x=\"1786\" y=\"-22.8\" font-family=\"Helvetica,sans-Serif\" font-size=\"14.00\" fill=\"#000000\">value = [0.991, 0.009]</text>\n<text text-anchor=\"middle\" x=\"1786\" y=\"-7.8\" font-family=\"Helvetica,sans-Serif\" font-size=\"14.00\" fill=\"#000000\">class = &lt;50k</text>\n</g>\n<!-- 35&#45;&gt;36 -->\n<g id=\"edge36\" class=\"edge\">\n<title>35&#45;&gt;36</title>\n<path fill=\"none\" stroke=\"#000000\" d=\"M1812.5449,-88.9777C1808.9267,-80.4617 1805.0326,-71.2963 1801.3717,-62.6798\"/>\n<polygon fill=\"#000000\" stroke=\"#000000\" points=\"1804.4964,-61.0836 1797.3646,-53.2485 1798.0538,-63.8209 1804.4964,-61.0836\"/>\n</g>\n<!-- 37 -->\n<g id=\"node38\" class=\"node\">\n<title>37</title>\n<path fill=\"#e6853f\" stroke=\"#000000\" d=\"M2026,-53C2026,-53 1894,-53 1894,-53 1888,-53 1882,-47 1882,-41 1882,-41 1882,-12 1882,-12 1882,-6 1888,0 1894,0 1894,0 2026,0 2026,0 2032,0 2038,-6 2038,-12 2038,-12 2038,-41 2038,-41 2038,-47 2032,-53 2026,-53\"/>\n<text text-anchor=\"middle\" x=\"1960\" y=\"-37.8\" font-family=\"Helvetica,sans-Serif\" font-size=\"14.00\" fill=\"#000000\">samples = 1.7%</text>\n<text text-anchor=\"middle\" x=\"1960\" y=\"-22.8\" font-family=\"Helvetica,sans-Serif\" font-size=\"14.00\" fill=\"#000000\">value = [0.971, 0.029]</text>\n<text text-anchor=\"middle\" x=\"1960\" y=\"-7.8\" font-family=\"Helvetica,sans-Serif\" font-size=\"14.00\" fill=\"#000000\">class = &lt;50k</text>\n</g>\n<!-- 35&#45;&gt;37 -->\n<g id=\"edge37\" class=\"edge\">\n<title>35&#45;&gt;37</title>\n<path fill=\"none\" stroke=\"#000000\" d=\"M1873.8908,-88.9777C1887.1423,-79.3629 1901.5347,-68.9203 1914.6913,-59.3743\"/>\n<polygon fill=\"#000000\" stroke=\"#000000\" points=\"1917.0957,-61.9541 1923.1342,-53.2485 1912.9848,-56.2883 1917.0957,-61.9541\"/>\n</g>\n<!-- 39 -->\n<g id=\"node40\" class=\"node\">\n<title>39</title>\n<path fill=\"#e99456\" stroke=\"#000000\" d=\"M2200,-53C2200,-53 2068,-53 2068,-53 2062,-53 2056,-47 2056,-41 2056,-41 2056,-12 2056,-12 2056,-6 2062,0 2068,0 2068,0 2200,0 2200,0 2206,0 2212,-6 2212,-12 2212,-12 2212,-41 2212,-41 2212,-47 2206,-53 2200,-53\"/>\n<text text-anchor=\"middle\" x=\"2134\" y=\"-37.8\" font-family=\"Helvetica,sans-Serif\" font-size=\"14.00\" fill=\"#000000\">samples = 4.6%</text>\n<text text-anchor=\"middle\" x=\"2134\" y=\"-22.8\" font-family=\"Helvetica,sans-Serif\" font-size=\"14.00\" fill=\"#000000\">value = [0.872, 0.128]</text>\n<text text-anchor=\"middle\" x=\"2134\" y=\"-7.8\" font-family=\"Helvetica,sans-Serif\" font-size=\"14.00\" fill=\"#000000\">class = &lt;50k</text>\n</g>\n<!-- 38&#45;&gt;39 -->\n<g id=\"edge39\" class=\"edge\">\n<title>38&#45;&gt;39</title>\n<path fill=\"none\" stroke=\"#000000\" d=\"M2104.8653,-88.9777C2108.8792,-80.3702 2113.2025,-71.0992 2117.2581,-62.402\"/>\n<polygon fill=\"#000000\" stroke=\"#000000\" points=\"2120.4723,-63.7907 2121.5266,-53.2485 2114.1282,-60.8323 2120.4723,-63.7907\"/>\n</g>\n<!-- 40 -->\n<g id=\"node41\" class=\"node\">\n<title>40</title>\n<path fill=\"#f2c19e\" stroke=\"#000000\" d=\"M2374,-53C2374,-53 2242,-53 2242,-53 2236,-53 2230,-47 2230,-41 2230,-41 2230,-12 2230,-12 2230,-6 2236,0 2242,0 2242,0 2374,0 2374,0 2380,0 2386,-6 2386,-12 2386,-12 2386,-41 2386,-41 2386,-47 2380,-53 2374,-53\"/>\n<text text-anchor=\"middle\" x=\"2308\" y=\"-37.8\" font-family=\"Helvetica,sans-Serif\" font-size=\"14.00\" fill=\"#000000\">samples = 2.8%</text>\n<text text-anchor=\"middle\" x=\"2308\" y=\"-22.8\" font-family=\"Helvetica,sans-Serif\" font-size=\"14.00\" fill=\"#000000\">value = [0.663, 0.337]</text>\n<text text-anchor=\"middle\" x=\"2308\" y=\"-7.8\" font-family=\"Helvetica,sans-Serif\" font-size=\"14.00\" fill=\"#000000\">class = &lt;50k</text>\n</g>\n<!-- 38&#45;&gt;40 -->\n<g id=\"edge40\" class=\"edge\">\n<title>38&#45;&gt;40</title>\n<path fill=\"none\" stroke=\"#000000\" d=\"M2166.2112,-88.9777C2189.6982,-78.6284 2215.3618,-67.32 2238.3213,-57.2032\"/>\n<polygon fill=\"#000000\" stroke=\"#000000\" points=\"2239.9048,-60.3302 2247.6444,-53.095 2237.0821,-53.9245 2239.9048,-60.3302\"/>\n</g>\n<!-- 42 -->\n<g id=\"node43\" class=\"node\">\n<title>42</title>\n<path fill=\"#f1bb94\" stroke=\"#000000\" d=\"M2340,-261C2340,-261 2208,-261 2208,-261 2202,-261 2196,-255 2196,-249 2196,-249 2196,-205 2196,-205 2196,-199 2202,-193 2208,-193 2208,-193 2340,-193 2340,-193 2346,-193 2352,-199 2352,-205 2352,-205 2352,-249 2352,-249 2352,-255 2346,-261 2340,-261\"/>\n<text text-anchor=\"middle\" x=\"2274\" y=\"-245.8\" font-family=\"Helvetica,sans-Serif\" font-size=\"14.00\" fill=\"#000000\">occupation &lt;= 4.5</text>\n<text text-anchor=\"middle\" x=\"2274\" y=\"-230.8\" font-family=\"Helvetica,sans-Serif\" font-size=\"14.00\" fill=\"#000000\">samples = 2.8%</text>\n<text text-anchor=\"middle\" x=\"2274\" y=\"-215.8\" font-family=\"Helvetica,sans-Serif\" font-size=\"14.00\" fill=\"#000000\">value = [0.686, 0.314]</text>\n<text text-anchor=\"middle\" x=\"2274\" y=\"-200.8\" font-family=\"Helvetica,sans-Serif\" font-size=\"14.00\" fill=\"#000000\">class = &lt;50k</text>\n</g>\n<!-- 41&#45;&gt;42 -->\n<g id=\"edge42\" class=\"edge\">\n<title>41&#45;&gt;42</title>\n<path fill=\"none\" stroke=\"#000000\" d=\"M2274,-296.9465C2274,-288.776 2274,-279.9318 2274,-271.3697\"/>\n<polygon fill=\"#000000\" stroke=\"#000000\" points=\"2277.5001,-271.13 2274,-261.13 2270.5001,-271.13 2277.5001,-271.13\"/>\n</g>\n<!-- 45 -->\n<g id=\"node46\" class=\"node\">\n<title>45</title>\n<path fill=\"#aad5f4\" stroke=\"#000000\" d=\"M2514,-253.5C2514,-253.5 2382,-253.5 2382,-253.5 2376,-253.5 2370,-247.5 2370,-241.5 2370,-241.5 2370,-212.5 2370,-212.5 2370,-206.5 2376,-200.5 2382,-200.5 2382,-200.5 2514,-200.5 2514,-200.5 2520,-200.5 2526,-206.5 2526,-212.5 2526,-212.5 2526,-241.5 2526,-241.5 2526,-247.5 2520,-253.5 2514,-253.5\"/>\n<text text-anchor=\"middle\" x=\"2448\" y=\"-238.3\" font-family=\"Helvetica,sans-Serif\" font-size=\"14.00\" fill=\"#000000\">samples = 1.7%</text>\n<text text-anchor=\"middle\" x=\"2448\" y=\"-223.3\" font-family=\"Helvetica,sans-Serif\" font-size=\"14.00\" fill=\"#000000\">value = [0.363, 0.637]</text>\n<text text-anchor=\"middle\" x=\"2448\" y=\"-208.3\" font-family=\"Helvetica,sans-Serif\" font-size=\"14.00\" fill=\"#000000\">class = &gt;50k</text>\n</g>\n<!-- 41&#45;&gt;45 -->\n<g id=\"edge45\" class=\"edge\">\n<title>41&#45;&gt;45</title>\n<path fill=\"none\" stroke=\"#000000\" d=\"M2330.9741,-296.9465C2351.5222,-284.6649 2374.6173,-270.8609 2394.8277,-258.7811\"/>\n<polygon fill=\"#000000\" stroke=\"#000000\" points=\"2396.805,-261.6769 2403.5929,-253.5422 2393.2136,-255.6684 2396.805,-261.6769\"/>\n</g>\n<!-- 43 -->\n<g id=\"node44\" class=\"node\">\n<title>43</title>\n<path fill=\"#fae7da\" stroke=\"#000000\" d=\"M2340,-149.5C2340,-149.5 2208,-149.5 2208,-149.5 2202,-149.5 2196,-143.5 2196,-137.5 2196,-137.5 2196,-108.5 2196,-108.5 2196,-102.5 2202,-96.5 2208,-96.5 2208,-96.5 2340,-96.5 2340,-96.5 2346,-96.5 2352,-102.5 2352,-108.5 2352,-108.5 2352,-137.5 2352,-137.5 2352,-143.5 2346,-149.5 2340,-149.5\"/>\n<text text-anchor=\"middle\" x=\"2274\" y=\"-134.3\" font-family=\"Helvetica,sans-Serif\" font-size=\"14.00\" fill=\"#000000\">samples = 1.1%</text>\n<text text-anchor=\"middle\" x=\"2274\" y=\"-119.3\" font-family=\"Helvetica,sans-Serif\" font-size=\"14.00\" fill=\"#000000\">value = [0.552, 0.448]</text>\n<text text-anchor=\"middle\" x=\"2274\" y=\"-104.3\" font-family=\"Helvetica,sans-Serif\" font-size=\"14.00\" fill=\"#000000\">class = &lt;50k</text>\n</g>\n<!-- 42&#45;&gt;43 -->\n<g id=\"edge43\" class=\"edge\">\n<title>42&#45;&gt;43</title>\n<path fill=\"none\" stroke=\"#000000\" d=\"M2274,-192.9465C2274,-182.2621 2274,-170.4254 2274,-159.5742\"/>\n<polygon fill=\"#000000\" stroke=\"#000000\" points=\"2277.5001,-159.5421 2274,-149.5422 2270.5001,-159.5422 2277.5001,-159.5421\"/>\n</g>\n<!-- 44 -->\n<g id=\"node45\" class=\"node\">\n<title>44</title>\n<path fill=\"#eca471\" stroke=\"#000000\" d=\"M2498,-149.5C2498,-149.5 2382,-149.5 2382,-149.5 2376,-149.5 2370,-143.5 2370,-137.5 2370,-137.5 2370,-108.5 2370,-108.5 2370,-102.5 2376,-96.5 2382,-96.5 2382,-96.5 2498,-96.5 2498,-96.5 2504,-96.5 2510,-102.5 2510,-108.5 2510,-108.5 2510,-137.5 2510,-137.5 2510,-143.5 2504,-149.5 2498,-149.5\"/>\n<text text-anchor=\"middle\" x=\"2440\" y=\"-134.3\" font-family=\"Helvetica,sans-Serif\" font-size=\"14.00\" fill=\"#000000\">samples = 1.6%</text>\n<text text-anchor=\"middle\" x=\"2440\" y=\"-119.3\" font-family=\"Helvetica,sans-Serif\" font-size=\"14.00\" fill=\"#000000\">value = [0.78, 0.22]</text>\n<text text-anchor=\"middle\" x=\"2440\" y=\"-104.3\" font-family=\"Helvetica,sans-Serif\" font-size=\"14.00\" fill=\"#000000\">class = &lt;50k</text>\n</g>\n<!-- 42&#45;&gt;44 -->\n<g id=\"edge44\" class=\"edge\">\n<title>42&#45;&gt;44</title>\n<path fill=\"none\" stroke=\"#000000\" d=\"M2328.3546,-192.9465C2347.8701,-180.72 2369.7937,-166.9847 2389.0129,-154.9437\"/>\n<polygon fill=\"#000000\" stroke=\"#000000\" points=\"2391.0186,-157.8174 2397.6346,-149.5422 2387.3021,-151.8854 2391.0186,-157.8174\"/>\n</g>\n</g>\n</svg>\n"
          },
          "metadata": {
            "tags": []
          },
          "execution_count": 337
        }
      ]
    },
    {
      "cell_type": "code",
      "metadata": {
        "colab": {
          "base_uri": "https://localhost:8080/"
        },
        "id": "y0MCf0qrIg2f",
        "outputId": "ba6994b3-7656-4600-d524-3df686cf8214"
      },
      "source": [
        "#Evaluate\n",
        "prectree = str(round(dectree.score(X_test,y_test) * 100, 2))+\"%\" #Medindo a preciso do modelo\n",
        "print(\"A acurácia do modelo Árvore de Decisões foi\", prectree)"
      ],
      "execution_count": 338,
      "outputs": [
        {
          "output_type": "stream",
          "text": [
            "A acurácia do modelo Árvore de Decisões foi 85.34%\n"
          ],
          "name": "stdout"
        }
      ]
    },
    {
      "cell_type": "code",
      "metadata": {
        "colab": {
          "base_uri": "https://localhost:8080/"
        },
        "id": "Ks3FAX5qI2z-",
        "outputId": "52a43089-e966-45b7-e338-418c536509cb"
      },
      "source": [
        "#Confusion Matrix\n",
        "print(\"\\nConfusion Matrix:\\n\",\n",
        "pd.crosstab(y_test, treepred, rownames=['Real'], colnames=['Predito'],\n",
        "margins=True, margins_name='Todos'))"
      ],
      "execution_count": 339,
      "outputs": [
        {
          "output_type": "stream",
          "text": [
            "\n",
            "Confusion Matrix:\n",
            " Predito     0     1  Todos\n",
            "Real                      \n",
            "0        7086   355   7441\n",
            "1        1077  1251   2328\n",
            "Todos    8163  1606   9769\n"
          ],
          "name": "stdout"
        }
      ]
    },
    {
      "cell_type": "code",
      "metadata": {
        "colab": {
          "base_uri": "https://localhost:8080/"
        },
        "id": "H4oKqwUgItEe",
        "outputId": "9a196292-9ade-4e2c-ac65-c74e69a187c4"
      },
      "source": [
        "#Classification Report\n",
        "print(classification_report(y_test, treepred))"
      ],
      "execution_count": 340,
      "outputs": [
        {
          "output_type": "stream",
          "text": [
            "              precision    recall  f1-score   support\n",
            "\n",
            "           0       0.87      0.95      0.91      7441\n",
            "           1       0.78      0.54      0.64      2328\n",
            "\n",
            "    accuracy                           0.85      9769\n",
            "   macro avg       0.82      0.74      0.77      9769\n",
            "weighted avg       0.85      0.85      0.84      9769\n",
            "\n"
          ],
          "name": "stdout"
        }
      ]
    }
  ]
}